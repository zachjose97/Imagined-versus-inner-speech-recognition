{
 "cells": [
  {
   "cell_type": "markdown",
   "id": "86d41589",
   "metadata": {},
   "source": [
    "## NLP BASED DISTANCE METRICS"
   ]
  },
  {
   "cell_type": "markdown",
   "id": "683330a9",
   "metadata": {},
   "source": [
    "## Levenshtein pairs"
   ]
  },
  {
   "cell_type": "code",
   "execution_count": 1,
   "id": "8fd3fa16",
   "metadata": {},
   "outputs": [],
   "source": [
    "from Levenshtein import distance"
   ]
  },
  {
   "cell_type": "code",
   "execution_count": 2,
   "id": "4812a12a",
   "metadata": {},
   "outputs": [],
   "source": [
    "lev_word_dict={\"date\":\"\",\"goose\":\"\",\"spruce\":\"\",\"knight\":\"\",\"juice\":\"\",\"moose\":\"\",\"night\":\"\",\"queen\":\"\",\"berry\":\"\",\n",
    "               \"hedgehog\":\"\",\"water\":\"\",\"daughter\":\"\",\"gooseberry\":\"\",\"waterfowl\":\"\",\"wilderness\":\"\",\"relative\":\"\",\n",
    "               \"watermelon\":\"\",\"caterpillar\":\"\",\"environment\":\"\",\"ambassador\":\"\"}\n"
   ]
  },
  {
   "cell_type": "code",
   "execution_count": 15,
   "id": "ce34b507",
   "metadata": {},
   "outputs": [],
   "source": [
    "num_dict={'date': 0,'goose': 1,'spruce': 2,'knight': 3,'juice': 4,'moose': 5,'night': 6,'queen': 7,'berry': 8,'hedgehog': 9,'water': 10,'daughter': 11,'gooseberry': 12,'waterfowl': 13,'wilderness': 14,'relative': 15,'watermelon': 16,'caterpillar': 17,'environment': 18,'ambassador': 19}\n",
    "\n"
   ]
  },
  {
   "cell_type": "code",
   "execution_count": 22,
   "id": "b40ce3da",
   "metadata": {},
   "outputs": [],
   "source": [
    "word_dict={0:'date',1:'goose',2:'spruce',3:'knight',4:'juice',5:'moose',6:'night',7:'queen',8:'berry',9:'hedgehog',10:'water',11:'daughter',12:'gooseberry',13:'waterfowl',14:'wilderness',15:'relative',16:'watermelon',17:'caterpillar',18:'environment',19:'ambassador'}\n",
    "\n"
   ]
  },
  {
   "cell_type": "code",
   "execution_count": 4,
   "id": "b286f7c3",
   "metadata": {},
   "outputs": [],
   "source": [
    "def levin(string):\n",
    "    max_dist=0\n",
    "    max_words=[]\n",
    "    for word in lev_word_dict.keys():\n",
    "        if distance(word,string)>max_dist:\n",
    "            max_words.append((distance(word,string),word))\n",
    "    return max_words\n",
    "            "
   ]
  },
  {
   "cell_type": "code",
   "execution_count": 5,
   "id": "80391234",
   "metadata": {},
   "outputs": [],
   "source": [
    "for string in lev_word_dict.keys():\n",
    "    max_words=levin(string)\n",
    "    lev_word_dict[string]=max_words\n",
    "    "
   ]
  },
  {
   "cell_type": "code",
   "execution_count": 6,
   "id": "8976cb19",
   "metadata": {},
   "outputs": [],
   "source": [
    "for word in lev_word_dict.keys():\n",
    "    lev_word_dict[word]=sorted(lev_word_dict[word])"
   ]
  },
  {
   "cell_type": "code",
   "execution_count": 7,
   "id": "0d189b6f",
   "metadata": {},
   "outputs": [],
   "source": [
    "levenshtein_pairs={0:\"\",1:\"\",2:\"\",3:\"\",4:\"\",5:\"\",6:\"\",7:\"\",8:\"\",9:\"\",10:\"\",11:\"\",12:\"\",13:\"\",14:\"\",15:\"\",16:\"\",\n",
    "                   17:\"\",18:\"\",19:\"\"}\n",
    "\n"
   ]
  },
  {
   "cell_type": "code",
   "execution_count": 9,
   "id": "7abfd765",
   "metadata": {},
   "outputs": [],
   "source": [
    "indices=[0,1,2,-1,-2,-3]\n",
    "for i,word in enumerate(lev_word_dict.keys()):\n",
    "    li=[]\n",
    "    for j in indices:\n",
    "        li.append(num_dict[lev_word_dict[word][j][1]])\n",
    "    levenshtein_pairs[i]=li"
   ]
  },
  {
   "cell_type": "code",
   "execution_count": 10,
   "id": "b7ba5639",
   "metadata": {},
   "outputs": [
    {
     "data": {
      "text/plain": [
       "{0: [10, 11, 1, 18, 12, 19],\n",
       " 1: [5, 0, 4, 17, 14, 16],\n",
       " 2: [4, 8, 0, 17, 14, 16],\n",
       " 3: [6, 11, 4, 14, 16, 12],\n",
       " 4: [0, 1, 5, 17, 19, 14],\n",
       " 5: [1, 0, 4, 17, 14, 16],\n",
       " 6: [3, 8, 0, 16, 12, 17],\n",
       " 7: [0, 4, 10, 17, 19, 18],\n",
       " 8: [0, 1, 12, 18, 17, 19],\n",
       " 9: [3, 6, 8, 18, 17, 14],\n",
       " 10: [0, 11, 7, 18, 12, 19],\n",
       " 11: [0, 10, 3, 18, 14, 17],\n",
       " 12: [8, 1, 5, 18, 17, 15],\n",
       " 13: [10, 16, 17, 18, 15, 6],\n",
       " 14: [10, 13, 16, 3, 17, 19],\n",
       " 15: [0, 4, 10, 12, 18, 17],\n",
       " 16: [10, 13, 17, 6, 3, 2],\n",
       " 17: [13, 16, 10, 5, 12, 1],\n",
       " 18: [3, 6, 1, 12, 19, 13],\n",
       " 19: [11, 5, 10, 18, 14, 7]}"
      ]
     },
     "execution_count": 10,
     "metadata": {},
     "output_type": "execute_result"
    }
   ],
   "source": [
    "levenshtein_pairs"
   ]
  },
  {
   "cell_type": "code",
   "execution_count": 25,
   "id": "d2477d72",
   "metadata": {},
   "outputs": [],
   "source": [
    "arr={}\n",
    "for key in levenshtein_pairs.keys():\n",
    "    a=[]\n",
    "    for index in levenshtein_pairs[key]:\n",
    "        a.append(word_dict[index])\n",
    "    arr[word_dict[key]]=a"
   ]
  },
  {
   "cell_type": "code",
   "execution_count": 26,
   "id": "1d49b934",
   "metadata": {},
   "outputs": [
    {
     "data": {
      "text/plain": [
       "{'date': ['water',\n",
       "  'daughter',\n",
       "  'goose',\n",
       "  'environment',\n",
       "  'gooseberry',\n",
       "  'ambassador'],\n",
       " 'goose': ['moose',\n",
       "  'date',\n",
       "  'juice',\n",
       "  'caterpillar',\n",
       "  'wilderness',\n",
       "  'watermelon'],\n",
       " 'spruce': ['juice',\n",
       "  'berry',\n",
       "  'date',\n",
       "  'caterpillar',\n",
       "  'wilderness',\n",
       "  'watermelon'],\n",
       " 'knight': ['night',\n",
       "  'daughter',\n",
       "  'juice',\n",
       "  'wilderness',\n",
       "  'watermelon',\n",
       "  'gooseberry'],\n",
       " 'juice': ['date',\n",
       "  'goose',\n",
       "  'moose',\n",
       "  'caterpillar',\n",
       "  'ambassador',\n",
       "  'wilderness'],\n",
       " 'moose': ['goose',\n",
       "  'date',\n",
       "  'juice',\n",
       "  'caterpillar',\n",
       "  'wilderness',\n",
       "  'watermelon'],\n",
       " 'night': ['knight',\n",
       "  'berry',\n",
       "  'date',\n",
       "  'watermelon',\n",
       "  'gooseberry',\n",
       "  'caterpillar'],\n",
       " 'queen': ['date',\n",
       "  'juice',\n",
       "  'water',\n",
       "  'caterpillar',\n",
       "  'ambassador',\n",
       "  'environment'],\n",
       " 'berry': ['date',\n",
       "  'goose',\n",
       "  'gooseberry',\n",
       "  'environment',\n",
       "  'caterpillar',\n",
       "  'ambassador'],\n",
       " 'hedgehog': ['knight',\n",
       "  'night',\n",
       "  'berry',\n",
       "  'environment',\n",
       "  'caterpillar',\n",
       "  'wilderness'],\n",
       " 'water': ['date',\n",
       "  'daughter',\n",
       "  'queen',\n",
       "  'environment',\n",
       "  'gooseberry',\n",
       "  'ambassador'],\n",
       " 'daughter': ['date',\n",
       "  'water',\n",
       "  'knight',\n",
       "  'environment',\n",
       "  'wilderness',\n",
       "  'caterpillar'],\n",
       " 'gooseberry': ['berry',\n",
       "  'goose',\n",
       "  'moose',\n",
       "  'environment',\n",
       "  'caterpillar',\n",
       "  'relative'],\n",
       " 'waterfowl': ['water',\n",
       "  'watermelon',\n",
       "  'caterpillar',\n",
       "  'environment',\n",
       "  'relative',\n",
       "  'night'],\n",
       " 'wilderness': ['water',\n",
       "  'waterfowl',\n",
       "  'watermelon',\n",
       "  'knight',\n",
       "  'caterpillar',\n",
       "  'ambassador'],\n",
       " 'relative': ['date',\n",
       "  'juice',\n",
       "  'water',\n",
       "  'gooseberry',\n",
       "  'environment',\n",
       "  'caterpillar'],\n",
       " 'watermelon': ['water',\n",
       "  'waterfowl',\n",
       "  'caterpillar',\n",
       "  'night',\n",
       "  'knight',\n",
       "  'spruce'],\n",
       " 'caterpillar': ['waterfowl',\n",
       "  'watermelon',\n",
       "  'water',\n",
       "  'moose',\n",
       "  'gooseberry',\n",
       "  'goose'],\n",
       " 'environment': ['knight',\n",
       "  'night',\n",
       "  'goose',\n",
       "  'gooseberry',\n",
       "  'ambassador',\n",
       "  'waterfowl'],\n",
       " 'ambassador': ['daughter',\n",
       "  'moose',\n",
       "  'water',\n",
       "  'environment',\n",
       "  'wilderness',\n",
       "  'queen']}"
      ]
     },
     "execution_count": 26,
     "metadata": {},
     "output_type": "execute_result"
    }
   ],
   "source": [
    "arr"
   ]
  },
  {
   "cell_type": "code",
   "execution_count": 11,
   "id": "55f8e025",
   "metadata": {},
   "outputs": [],
   "source": [
    "# import pickle\n",
    "# with open('/Users/zachariah/Downloads/levenshtein_pairs.pickle', 'wb') as file:\n",
    "#     pickle.dump(levenshtein_pairs, file, protocol=pickle.HIGHEST_PROTOCOL)\n",
    "    \n",
    "# with open('/Users/zachariah/Downloads/levenshtein_pairs.pickle', \"rb\") as file:\n",
    "#     levenshtein_pairs = pickle.load(file)"
   ]
  },
  {
   "cell_type": "code",
   "execution_count": 12,
   "id": "9afe18ec",
   "metadata": {},
   "outputs": [
    {
     "data": {
      "text/plain": [
       "{0: [10, 11, 1, 18, 12, 19],\n",
       " 1: [5, 0, 4, 17, 14, 16],\n",
       " 2: [4, 8, 0, 17, 14, 16],\n",
       " 3: [6, 11, 4, 14, 16, 12],\n",
       " 4: [0, 1, 5, 17, 19, 14],\n",
       " 5: [1, 0, 4, 17, 14, 16],\n",
       " 6: [3, 8, 0, 16, 12, 17],\n",
       " 7: [0, 4, 10, 17, 19, 18],\n",
       " 8: [0, 1, 12, 18, 17, 19],\n",
       " 9: [3, 6, 8, 18, 17, 14],\n",
       " 10: [0, 11, 7, 18, 12, 19],\n",
       " 11: [0, 10, 3, 18, 14, 17],\n",
       " 12: [8, 1, 5, 18, 17, 15],\n",
       " 13: [10, 16, 17, 18, 15, 6],\n",
       " 14: [10, 13, 16, 3, 17, 19],\n",
       " 15: [0, 4, 10, 12, 18, 17],\n",
       " 16: [10, 13, 17, 6, 3, 2],\n",
       " 17: [13, 16, 10, 5, 12, 1],\n",
       " 18: [3, 6, 1, 12, 19, 13],\n",
       " 19: [11, 5, 10, 18, 14, 7]}"
      ]
     },
     "execution_count": 12,
     "metadata": {},
     "output_type": "execute_result"
    }
   ],
   "source": [
    "levenshtein_pairs"
   ]
  },
  {
   "cell_type": "markdown",
   "id": "6f0d5b5d",
   "metadata": {},
   "source": [
    "## Word2vec Pairs"
   ]
  },
  {
   "cell_type": "code",
   "execution_count": 27,
   "id": "769d0254",
   "metadata": {},
   "outputs": [],
   "source": [
    "import gensim\n",
    "import nltk\n",
    "from nltk.data import find"
   ]
  },
  {
   "cell_type": "code",
   "execution_count": 28,
   "id": "80fcb2c6",
   "metadata": {},
   "outputs": [],
   "source": [
    "pretrained_embeddings_path = \"/Users/zachariah/Downloads/archive_2/GoogleNews-vectors-negative300.bin.gz\"\n",
    "word2vec = gensim.models.KeyedVectors.load_word2vec_format(pretrained_embeddings_path, binary=True)"
   ]
  },
  {
   "cell_type": "code",
   "execution_count": 29,
   "id": "32820ca9",
   "metadata": {},
   "outputs": [],
   "source": [
    "def word2vec_(string):\n",
    "    max_dist=0.1\n",
    "    max_words=[]\n",
    "    for word in word2vec_dict.keys():\n",
    "        if 1-word2vec.similarity(word,string)>max_dist:\n",
    "            max_words.append(((1-word2vec.similarity(word,string)),word))\n",
    "    return max_words"
   ]
  },
  {
   "cell_type": "code",
   "execution_count": 30,
   "id": "f9f2c188",
   "metadata": {},
   "outputs": [],
   "source": [
    "word2vec_dict={\"date\":\"\",\"goose\":\"\",\"spruce\":\"\",\"knight\":\"\",\"juice\":\"\",\"moose\":\"\",\"night\":\"\",\"queen\":\"\",\"berry\":\"\",\"hedgehog\":\"\",\"water\":\"\",\"daughter\":\"\",\"gooseberry\":\"\",\"waterfowl\":\"\",\"wilderness\":\"\",\"relative\":\"\",\"watermelon\":\"\",\"caterpillar\":\"\",\"environment\":\"\",\"ambassador\":\"\"}\n"
   ]
  },
  {
   "cell_type": "code",
   "execution_count": 31,
   "id": "61440216",
   "metadata": {},
   "outputs": [],
   "source": [
    "for string in word2vec_dict.keys():\n",
    "    max_words=word2vec_(string)\n",
    "    word2vec_dict[string]=max_words"
   ]
  },
  {
   "cell_type": "code",
   "execution_count": 32,
   "id": "b0f7c33f",
   "metadata": {},
   "outputs": [],
   "source": [
    "for word in word2vec_dict.keys():\n",
    "    word2vec_dict[word]=sorted(word2vec_dict[word])"
   ]
  },
  {
   "cell_type": "code",
   "execution_count": 33,
   "id": "47bd45a3",
   "metadata": {},
   "outputs": [],
   "source": [
    "word2vec_pairs={0:\"\",1:\"\",2:\"\",3:\"\",4:\"\",5:\"\",6:\"\",7:\"\",8:\"\",9:\"\",10:\"\",11:\"\",12:\"\",13:\"\",14:\"\",15:\"\",16:\"\",\n",
    "                   17:\"\",18:\"\",19:\"\"}"
   ]
  },
  {
   "cell_type": "code",
   "execution_count": 34,
   "id": "afe5acd4",
   "metadata": {},
   "outputs": [],
   "source": [
    "indices=[0,1,2,-1,-2,-3]\n",
    "for i,word in enumerate(word2vec_dict.keys()):\n",
    "    li=[]\n",
    "    for j in indices:\n",
    "        li.append(num_dict[word2vec_dict[word][j][1]])\n",
    "    word2vec_pairs[i]=li"
   ]
  },
  {
   "cell_type": "code",
   "execution_count": 35,
   "id": "99e5f41f",
   "metadata": {},
   "outputs": [],
   "source": [
    "# import pickle\n",
    "# with open('/Users/zachariah/Downloads/word2vec_pairs.pickle', 'wb') as file:\n",
    "#     pickle.dump(word2vec_pairs, file, protocol=pickle.HIGHEST_PROTOCOL)\n",
    "    \n",
    "# with open('/Users/zachariah/Downloads/word2vec_pairs.pickle', \"rb\") as file:\n",
    "#     word2vec_pairs = pickle.load(file)"
   ]
  },
  {
   "cell_type": "code",
   "execution_count": 36,
   "id": "07a0c6d1",
   "metadata": {},
   "outputs": [
    {
     "data": {
      "text/plain": [
       "{0: [11, 6, 2, 17, 14, 18],\n",
       " 1: [13, 5, 9, 4, 18, 19],\n",
       " 2: [1, 5, 8, 15, 19, 6],\n",
       " 3: [7, 9, 1, 0, 13, 10],\n",
       " 4: [8, 16, 10, 13, 5, 1],\n",
       " 5: [1, 13, 9, 4, 19, 0],\n",
       " 6: [7, 10, 14, 12, 17, 18],\n",
       " 7: [3, 11, 19, 18, 10, 4],\n",
       " 8: [12, 16, 4, 18, 0, 15],\n",
       " 9: [17, 5, 1, 6, 18, 4],\n",
       " 10: [4, 16, 8, 15, 7, 0],\n",
       " 11: [7, 19, 12, 13, 18, 2],\n",
       " 12: [8, 16, 9, 18, 6, 0],\n",
       " 13: [1, 5, 14, 4, 19, 11],\n",
       " 14: [5, 13, 8, 0, 16, 4],\n",
       " 15: [11, 18, 1, 17, 4, 2],\n",
       " 16: [8, 4, 12, 18, 0, 14],\n",
       " 17: [9, 16, 8, 15, 0, 6],\n",
       " 18: [14, 10, 15, 4, 12, 1],\n",
       " 19: [7, 3, 11, 13, 15, 1]}"
      ]
     },
     "execution_count": 36,
     "metadata": {},
     "output_type": "execute_result"
    }
   ],
   "source": [
    "word2vec_pairs"
   ]
  },
  {
   "cell_type": "code",
   "execution_count": 38,
   "id": "e5f46447",
   "metadata": {},
   "outputs": [],
   "source": [
    "arr={}\n",
    "for key in word2vec_pairs.keys():\n",
    "    a=[]\n",
    "    for index in word2vec_pairs[key]:\n",
    "        a.append(word_dict[index])\n",
    "    arr[word_dict[key]]=a"
   ]
  },
  {
   "cell_type": "code",
   "execution_count": 39,
   "id": "e577d903",
   "metadata": {},
   "outputs": [
    {
     "data": {
      "text/plain": [
       "{'date': ['daughter',\n",
       "  'night',\n",
       "  'spruce',\n",
       "  'caterpillar',\n",
       "  'wilderness',\n",
       "  'environment'],\n",
       " 'goose': ['waterfowl',\n",
       "  'moose',\n",
       "  'hedgehog',\n",
       "  'juice',\n",
       "  'environment',\n",
       "  'ambassador'],\n",
       " 'spruce': ['goose', 'moose', 'berry', 'relative', 'ambassador', 'night'],\n",
       " 'knight': ['queen', 'hedgehog', 'goose', 'date', 'waterfowl', 'water'],\n",
       " 'juice': ['berry', 'watermelon', 'water', 'waterfowl', 'moose', 'goose'],\n",
       " 'moose': ['goose', 'waterfowl', 'hedgehog', 'juice', 'ambassador', 'date'],\n",
       " 'night': ['queen',\n",
       "  'water',\n",
       "  'wilderness',\n",
       "  'gooseberry',\n",
       "  'caterpillar',\n",
       "  'environment'],\n",
       " 'queen': ['knight',\n",
       "  'daughter',\n",
       "  'ambassador',\n",
       "  'environment',\n",
       "  'water',\n",
       "  'juice'],\n",
       " 'berry': ['gooseberry',\n",
       "  'watermelon',\n",
       "  'juice',\n",
       "  'environment',\n",
       "  'date',\n",
       "  'relative'],\n",
       " 'hedgehog': ['caterpillar',\n",
       "  'moose',\n",
       "  'goose',\n",
       "  'night',\n",
       "  'environment',\n",
       "  'juice'],\n",
       " 'water': ['juice', 'watermelon', 'berry', 'relative', 'queen', 'date'],\n",
       " 'daughter': ['queen',\n",
       "  'ambassador',\n",
       "  'gooseberry',\n",
       "  'waterfowl',\n",
       "  'environment',\n",
       "  'spruce'],\n",
       " 'gooseberry': ['berry',\n",
       "  'watermelon',\n",
       "  'hedgehog',\n",
       "  'environment',\n",
       "  'night',\n",
       "  'date'],\n",
       " 'waterfowl': ['goose',\n",
       "  'moose',\n",
       "  'wilderness',\n",
       "  'juice',\n",
       "  'ambassador',\n",
       "  'daughter'],\n",
       " 'wilderness': ['moose', 'waterfowl', 'berry', 'date', 'watermelon', 'juice'],\n",
       " 'relative': ['daughter',\n",
       "  'environment',\n",
       "  'goose',\n",
       "  'caterpillar',\n",
       "  'juice',\n",
       "  'spruce'],\n",
       " 'watermelon': ['berry',\n",
       "  'juice',\n",
       "  'gooseberry',\n",
       "  'environment',\n",
       "  'date',\n",
       "  'wilderness'],\n",
       " 'caterpillar': ['hedgehog',\n",
       "  'watermelon',\n",
       "  'berry',\n",
       "  'relative',\n",
       "  'date',\n",
       "  'night'],\n",
       " 'environment': ['wilderness',\n",
       "  'water',\n",
       "  'relative',\n",
       "  'juice',\n",
       "  'gooseberry',\n",
       "  'goose'],\n",
       " 'ambassador': ['queen',\n",
       "  'knight',\n",
       "  'daughter',\n",
       "  'waterfowl',\n",
       "  'relative',\n",
       "  'goose']}"
      ]
     },
     "execution_count": 39,
     "metadata": {},
     "output_type": "execute_result"
    }
   ],
   "source": [
    "arr"
   ]
  },
  {
   "cell_type": "markdown",
   "id": "2012f20e",
   "metadata": {},
   "source": [
    "## PHONETIC DISTANCE METRIC"
   ]
  },
  {
   "cell_type": "markdown",
   "id": "f55c55d2",
   "metadata": {},
   "source": [
    "## Metaphone Pairs"
   ]
  },
  {
   "cell_type": "code",
   "execution_count": 41,
   "id": "87d493e8",
   "metadata": {},
   "outputs": [],
   "source": [
    "from phonetics import metaphone"
   ]
  },
  {
   "cell_type": "code",
   "execution_count": 42,
   "id": "47eb3594",
   "metadata": {},
   "outputs": [],
   "source": [
    "phonetics_dict={\"date\":\"\",\"goose\":\"\",\"spruce\":\"\",\"knight\":\"\",\"juice\":\"\",\"moose\":\"\",\"night\":\"\",\"queen\":\"\",\"berry\":\"\",\"hedgehog\":\"\",\"water\":\"\",\"daughter\":\"\",\"gooseberry\":\"\",\"waterfowl\":\"\",\"wilderness\":\"\",\"relative\":\"\",\"watermelon\":\"\",\"caterpillar\":\"\",\"environment\":\"\",\"ambassador\":\"\"}\n"
   ]
  },
  {
   "cell_type": "code",
   "execution_count": 43,
   "id": "3f74183b",
   "metadata": {},
   "outputs": [],
   "source": [
    "for word in phonetics_dict.keys():\n",
    "    phonetics_dict[word]=metaphone(word)"
   ]
  },
  {
   "cell_type": "code",
   "execution_count": 50,
   "id": "9b655316",
   "metadata": {},
   "outputs": [],
   "source": [
    "def levin_phonetic(string):\n",
    "    max_dist=0\n",
    "    max_words=[]\n",
    "    for word in phonetic_dict.keys():\n",
    "        if distance(phonetics_dict[word],phonetics_dict[string])>max_dist:\n",
    "            max_words.append((distance(phonetics_dict[word],phonetics_dict[string]),word))\n",
    "    return max_words\n",
    "            "
   ]
  },
  {
   "cell_type": "code",
   "execution_count": 51,
   "id": "9cd454ce",
   "metadata": {},
   "outputs": [],
   "source": [
    "phonetic_dict={\"date\":\"\",\"goose\":\"\",\"spruce\":\"\",\"knight\":\"\",\"juice\":\"\",\"moose\":\"\",\"night\":\"\",\"queen\":\"\",\"berry\":\"\",\"hedgehog\":\"\",\"water\":\"\",\"daughter\":\"\",\"gooseberry\":\"\",\"waterfowl\":\"\",\"wilderness\":\"\",\"relative\":\"\",\"watermelon\":\"\",\"caterpillar\":\"\",\"environment\":\"\",\"ambassador\":\"\"}\n"
   ]
  },
  {
   "cell_type": "code",
   "execution_count": 52,
   "id": "a532daa3",
   "metadata": {},
   "outputs": [],
   "source": [
    "for string in phonetic_dict.keys():\n",
    "    max_words=levin_phonetic(string)\n",
    "    phonetic_dict[string]=max_words\n",
    "    "
   ]
  },
  {
   "cell_type": "code",
   "execution_count": 53,
   "id": "564934a4",
   "metadata": {},
   "outputs": [],
   "source": [
    "for word in phonetic_dict.keys():\n",
    "    phonetic_dict[word]=sorted(phonetic_dict[word])"
   ]
  },
  {
   "cell_type": "code",
   "execution_count": 54,
   "id": "0161bbb8",
   "metadata": {},
   "outputs": [],
   "source": [
    "phonetic_pairs={0:\"\",1:\"\",2:\"\",3:\"\",4:\"\",5:\"\",6:\"\",7:\"\",8:\"\",9:\"\",10:\"\",11:\"\",12:\"\",13:\"\",14:\"\",15:\"\",16:\"\",\n",
    "                   17:\"\",18:\"\",19:\"\"}"
   ]
  },
  {
   "cell_type": "code",
   "execution_count": 55,
   "id": "05bac74d",
   "metadata": {},
   "outputs": [],
   "source": [
    "indices=[0,1,2,-1,-2,-3]\n",
    "for i,word in enumerate(phonetic_dict.keys()):\n",
    "    li=[]\n",
    "    for j in indices:\n",
    "        li.append(num_dict[phonetic_dict[word][j][1]])\n",
    "    phonetic_pairs[i]=li"
   ]
  },
  {
   "cell_type": "code",
   "execution_count": 56,
   "id": "712dc26e",
   "metadata": {},
   "outputs": [
    {
     "data": {
      "text/plain": [
       "{0: [11, 3, 6, 18, 14, 16],\n",
       " 1: [4, 5, 7, 18, 16, 14],\n",
       " 2: [8, 12, 11, 18, 16, 17],\n",
       " 3: [0, 8, 6, 18, 14, 16],\n",
       " 4: [1, 5, 8, 18, 16, 17],\n",
       " 5: [1, 4, 8, 18, 17, 14],\n",
       " 6: [0, 8, 3, 18, 14, 16],\n",
       " 7: [1, 8, 0, 18, 19, 14],\n",
       " 8: [0, 11, 1, 18, 14, 16],\n",
       " 9: [4, 8, 0, 18, 14, 16],\n",
       " 10: [11, 8, 0, 18, 9, 17],\n",
       " 11: [0, 10, 8, 18, 14, 16],\n",
       " 12: [8, 1, 2, 18, 16, 14],\n",
       " 13: [10, 16, 17, 18, 7, 5],\n",
       " 14: [10, 13, 11, 9, 7, 6],\n",
       " 15: [0, 11, 3, 18, 16, 17],\n",
       " 16: [13, 17, 10, 4, 9, 12],\n",
       " 17: [12, 13, 16, 18, 5, 4],\n",
       " 18: [16, 14, 3, 4, 9, 1],\n",
       " 19: [10, 8, 11, 18, 7, 9]}"
      ]
     },
     "execution_count": 56,
     "metadata": {},
     "output_type": "execute_result"
    }
   ],
   "source": [
    "phonetic_pairs[6][2]=3\n",
    "phonetic_pairs[3][2]=6\n",
    "phonetic_pairs"
   ]
  },
  {
   "cell_type": "code",
   "execution_count": 57,
   "id": "a3dc79ec",
   "metadata": {},
   "outputs": [],
   "source": [
    "# import pickle\n",
    "# with open('/Users/zachariah/Downloads/phonetic_pairs.pickle', 'wb') as file:\n",
    "#     pickle.dump(phonetic_pairs, file, protocol=pickle.HIGHEST_PROTOCOL)\n",
    "    \n",
    "# with open('/Users/zachariah/Downloads/phonetic_pairs.pickle', \"rb\") as file:\n",
    "#     phonetic_pairs = pickle.load(file)"
   ]
  },
  {
   "cell_type": "code",
   "execution_count": 58,
   "id": "50fbb340",
   "metadata": {},
   "outputs": [
    {
     "data": {
      "text/plain": [
       "{0: [11, 3, 6, 18, 14, 16],\n",
       " 1: [4, 5, 7, 18, 16, 14],\n",
       " 2: [8, 12, 11, 18, 16, 17],\n",
       " 3: [0, 8, 6, 18, 14, 16],\n",
       " 4: [1, 5, 8, 18, 16, 17],\n",
       " 5: [1, 4, 8, 18, 17, 14],\n",
       " 6: [0, 8, 3, 18, 14, 16],\n",
       " 7: [1, 8, 0, 18, 19, 14],\n",
       " 8: [0, 11, 1, 18, 14, 16],\n",
       " 9: [4, 8, 0, 18, 14, 16],\n",
       " 10: [11, 8, 0, 18, 9, 17],\n",
       " 11: [0, 10, 8, 18, 14, 16],\n",
       " 12: [8, 1, 2, 18, 16, 14],\n",
       " 13: [10, 16, 17, 18, 7, 5],\n",
       " 14: [10, 13, 11, 9, 7, 6],\n",
       " 15: [0, 11, 3, 18, 16, 17],\n",
       " 16: [13, 17, 10, 4, 9, 12],\n",
       " 17: [12, 13, 16, 18, 5, 4],\n",
       " 18: [16, 14, 3, 4, 9, 1],\n",
       " 19: [10, 8, 11, 18, 7, 9]}"
      ]
     },
     "execution_count": 58,
     "metadata": {},
     "output_type": "execute_result"
    }
   ],
   "source": [
    "phonetic_pairs"
   ]
  },
  {
   "cell_type": "code",
   "execution_count": 59,
   "id": "8096b301",
   "metadata": {},
   "outputs": [],
   "source": [
    "arr={}\n",
    "for key in phonetic_pairs.keys():\n",
    "    a=[]\n",
    "    for index in phonetic_pairs[key]:\n",
    "        a.append(word_dict[index])\n",
    "    arr[word_dict[key]]=a"
   ]
  },
  {
   "cell_type": "code",
   "execution_count": 60,
   "id": "bc1e2dad",
   "metadata": {},
   "outputs": [
    {
     "data": {
      "text/plain": [
       "{'date': ['daughter',\n",
       "  'knight',\n",
       "  'night',\n",
       "  'environment',\n",
       "  'wilderness',\n",
       "  'watermelon'],\n",
       " 'goose': ['juice',\n",
       "  'moose',\n",
       "  'queen',\n",
       "  'environment',\n",
       "  'watermelon',\n",
       "  'wilderness'],\n",
       " 'spruce': ['berry',\n",
       "  'gooseberry',\n",
       "  'daughter',\n",
       "  'environment',\n",
       "  'watermelon',\n",
       "  'caterpillar'],\n",
       " 'knight': ['date',\n",
       "  'berry',\n",
       "  'night',\n",
       "  'environment',\n",
       "  'wilderness',\n",
       "  'watermelon'],\n",
       " 'juice': ['goose',\n",
       "  'moose',\n",
       "  'berry',\n",
       "  'environment',\n",
       "  'watermelon',\n",
       "  'caterpillar'],\n",
       " 'moose': ['goose',\n",
       "  'juice',\n",
       "  'berry',\n",
       "  'environment',\n",
       "  'caterpillar',\n",
       "  'wilderness'],\n",
       " 'night': ['date',\n",
       "  'berry',\n",
       "  'knight',\n",
       "  'environment',\n",
       "  'wilderness',\n",
       "  'watermelon'],\n",
       " 'queen': ['goose',\n",
       "  'berry',\n",
       "  'date',\n",
       "  'environment',\n",
       "  'ambassador',\n",
       "  'wilderness'],\n",
       " 'berry': ['date',\n",
       "  'daughter',\n",
       "  'goose',\n",
       "  'environment',\n",
       "  'wilderness',\n",
       "  'watermelon'],\n",
       " 'hedgehog': ['juice',\n",
       "  'berry',\n",
       "  'date',\n",
       "  'environment',\n",
       "  'wilderness',\n",
       "  'watermelon'],\n",
       " 'water': ['daughter',\n",
       "  'berry',\n",
       "  'date',\n",
       "  'environment',\n",
       "  'hedgehog',\n",
       "  'caterpillar'],\n",
       " 'daughter': ['date',\n",
       "  'water',\n",
       "  'berry',\n",
       "  'environment',\n",
       "  'wilderness',\n",
       "  'watermelon'],\n",
       " 'gooseberry': ['berry',\n",
       "  'goose',\n",
       "  'spruce',\n",
       "  'environment',\n",
       "  'watermelon',\n",
       "  'wilderness'],\n",
       " 'waterfowl': ['water',\n",
       "  'watermelon',\n",
       "  'caterpillar',\n",
       "  'environment',\n",
       "  'queen',\n",
       "  'moose'],\n",
       " 'wilderness': ['water',\n",
       "  'waterfowl',\n",
       "  'daughter',\n",
       "  'hedgehog',\n",
       "  'queen',\n",
       "  'night'],\n",
       " 'relative': ['date',\n",
       "  'daughter',\n",
       "  'knight',\n",
       "  'environment',\n",
       "  'watermelon',\n",
       "  'caterpillar'],\n",
       " 'watermelon': ['waterfowl',\n",
       "  'caterpillar',\n",
       "  'water',\n",
       "  'juice',\n",
       "  'hedgehog',\n",
       "  'gooseberry'],\n",
       " 'caterpillar': ['gooseberry',\n",
       "  'waterfowl',\n",
       "  'watermelon',\n",
       "  'environment',\n",
       "  'moose',\n",
       "  'juice'],\n",
       " 'environment': ['watermelon',\n",
       "  'wilderness',\n",
       "  'knight',\n",
       "  'juice',\n",
       "  'hedgehog',\n",
       "  'goose'],\n",
       " 'ambassador': ['water',\n",
       "  'berry',\n",
       "  'daughter',\n",
       "  'environment',\n",
       "  'queen',\n",
       "  'hedgehog']}"
      ]
     },
     "execution_count": 60,
     "metadata": {},
     "output_type": "execute_result"
    }
   ],
   "source": [
    "arr"
   ]
  },
  {
   "cell_type": "markdown",
   "id": "eea49e11",
   "metadata": {},
   "source": [
    "## NEURO TOPOLOGICAL DISTANCE METRIC"
   ]
  },
  {
   "cell_type": "code",
   "execution_count": 61,
   "id": "6d23db42",
   "metadata": {},
   "outputs": [],
   "source": [
    "import pandas as pd\n",
    "import numpy as np\n",
    "from scipy import spatial\n",
    "vocab=pd.read_csv(\"/Users/zachariah/Downloads/pragmatic_atlas/Vocabulary.csv\")"
   ]
  },
  {
   "cell_type": "code",
   "execution_count": 62,
   "id": "7c6968f3",
   "metadata": {},
   "outputs": [],
   "source": [
    "vocab.drop([\"Unnamed: 0\"],axis=1,inplace=True)\n"
   ]
  },
  {
   "cell_type": "code",
   "execution_count": 63,
   "id": "1662da11",
   "metadata": {},
   "outputs": [
    {
     "data": {
      "text/plain": [
       "Index(['0'], dtype='object')"
      ]
     },
     "execution_count": 63,
     "metadata": {},
     "output_type": "execute_result"
    }
   ],
   "source": [
    "vocab.columns"
   ]
  },
  {
   "cell_type": "code",
   "execution_count": 64,
   "id": "441d6ab4",
   "metadata": {},
   "outputs": [],
   "source": [
    "vocab.rename(columns={'0': 'word'},inplace=True)"
   ]
  },
  {
   "cell_type": "code",
   "execution_count": 65,
   "id": "99f4e5ca",
   "metadata": {},
   "outputs": [
    {
     "data": {
      "text/plain": [
       "Int64Index([767], dtype='int64')"
      ]
     },
     "execution_count": 65,
     "metadata": {},
     "output_type": "execute_result"
    }
   ],
   "source": [
    "vocab[vocab[\"word\"]==\"b'date'\"].index"
   ]
  },
  {
   "cell_type": "code",
   "execution_count": 66,
   "id": "d67339ed",
   "metadata": {},
   "outputs": [],
   "source": [
    "neuro_dict={\"date\":767,\"goose\":10424,\"knight\":7167,\"juice\":4117,\"night\":3095,\"queen\":7156,\"water\":8506,\n",
    "            \"daughter\":2645,\"wilderness\":10013,\"relative\":6176,\"environment\":8458,\"ambassador\":4316}\n"
   ]
  },
  {
   "cell_type": "code",
   "execution_count": 67,
   "id": "e109aeca",
   "metadata": {},
   "outputs": [],
   "source": [
    "data=pd.read_csv(\"/Users/zachariah/Downloads/pragmatic_atlas/Word_embedding.csv\")\n",
    "df=data.transpose()"
   ]
  },
  {
   "cell_type": "code",
   "execution_count": 68,
   "id": "aa402db1",
   "metadata": {},
   "outputs": [],
   "source": [
    "df.reset_index(inplace=True)\n",
    "df.drop([\"index\"],axis=1,inplace=True)\n",
    "df.drop(0,axis=0,inplace=True)\n",
    "df.reset_index(inplace=True)\n",
    "df.drop([\"index\"],axis=1,inplace=True)"
   ]
  },
  {
   "cell_type": "code",
   "execution_count": 69,
   "id": "2713eeaf",
   "metadata": {},
   "outputs": [
    {
     "data": {
      "text/html": [
       "<div>\n",
       "<style scoped>\n",
       "    .dataframe tbody tr th:only-of-type {\n",
       "        vertical-align: middle;\n",
       "    }\n",
       "\n",
       "    .dataframe tbody tr th {\n",
       "        vertical-align: top;\n",
       "    }\n",
       "\n",
       "    .dataframe thead th {\n",
       "        text-align: right;\n",
       "    }\n",
       "</style>\n",
       "<table border=\"1\" class=\"dataframe\">\n",
       "  <thead>\n",
       "    <tr style=\"text-align: right;\">\n",
       "      <th></th>\n",
       "      <th>0</th>\n",
       "      <th>1</th>\n",
       "      <th>2</th>\n",
       "      <th>3</th>\n",
       "      <th>4</th>\n",
       "      <th>5</th>\n",
       "      <th>6</th>\n",
       "      <th>7</th>\n",
       "      <th>8</th>\n",
       "      <th>9</th>\n",
       "      <th>...</th>\n",
       "      <th>10460</th>\n",
       "      <th>10461</th>\n",
       "      <th>10462</th>\n",
       "      <th>10463</th>\n",
       "      <th>10464</th>\n",
       "      <th>10465</th>\n",
       "      <th>10466</th>\n",
       "      <th>10467</th>\n",
       "      <th>10468</th>\n",
       "      <th>10469</th>\n",
       "    </tr>\n",
       "  </thead>\n",
       "  <tbody>\n",
       "    <tr>\n",
       "      <th>0</th>\n",
       "      <td>-0.612002</td>\n",
       "      <td>-0.268180</td>\n",
       "      <td>-0.078856</td>\n",
       "      <td>-0.293919</td>\n",
       "      <td>-0.118790</td>\n",
       "      <td>-0.107290</td>\n",
       "      <td>0.335953</td>\n",
       "      <td>-0.114067</td>\n",
       "      <td>0.163793</td>\n",
       "      <td>-0.214333</td>\n",
       "      <td>...</td>\n",
       "      <td>-0.181467</td>\n",
       "      <td>0.249024</td>\n",
       "      <td>-0.001954</td>\n",
       "      <td>-0.261730</td>\n",
       "      <td>-0.072834</td>\n",
       "      <td>0.451187</td>\n",
       "      <td>0.082207</td>\n",
       "      <td>0.249784</td>\n",
       "      <td>0.048215</td>\n",
       "      <td>-0.797497</td>\n",
       "    </tr>\n",
       "    <tr>\n",
       "      <th>1</th>\n",
       "      <td>-0.196510</td>\n",
       "      <td>0.019859</td>\n",
       "      <td>-0.733039</td>\n",
       "      <td>-0.574758</td>\n",
       "      <td>-0.235882</td>\n",
       "      <td>0.506257</td>\n",
       "      <td>0.613946</td>\n",
       "      <td>0.149886</td>\n",
       "      <td>0.662143</td>\n",
       "      <td>0.335947</td>\n",
       "      <td>...</td>\n",
       "      <td>-0.282211</td>\n",
       "      <td>-0.164279</td>\n",
       "      <td>-0.056532</td>\n",
       "      <td>0.088607</td>\n",
       "      <td>0.029535</td>\n",
       "      <td>-0.116663</td>\n",
       "      <td>-0.325038</td>\n",
       "      <td>0.913666</td>\n",
       "      <td>-0.096774</td>\n",
       "      <td>-0.158495</td>\n",
       "    </tr>\n",
       "    <tr>\n",
       "      <th>2</th>\n",
       "      <td>-0.109816</td>\n",
       "      <td>0.887895</td>\n",
       "      <td>0.871472</td>\n",
       "      <td>0.614770</td>\n",
       "      <td>-0.121797</td>\n",
       "      <td>0.298413</td>\n",
       "      <td>-1.119890</td>\n",
       "      <td>1.382633</td>\n",
       "      <td>-0.566734</td>\n",
       "      <td>-1.524254</td>\n",
       "      <td>...</td>\n",
       "      <td>-0.577719</td>\n",
       "      <td>-0.296053</td>\n",
       "      <td>0.687364</td>\n",
       "      <td>0.926397</td>\n",
       "      <td>0.072695</td>\n",
       "      <td>2.111372</td>\n",
       "      <td>1.911088</td>\n",
       "      <td>0.410132</td>\n",
       "      <td>1.162528</td>\n",
       "      <td>-1.184241</td>\n",
       "    </tr>\n",
       "    <tr>\n",
       "      <th>3</th>\n",
       "      <td>-0.034599</td>\n",
       "      <td>0.632800</td>\n",
       "      <td>0.573131</td>\n",
       "      <td>0.529035</td>\n",
       "      <td>1.019047</td>\n",
       "      <td>0.204743</td>\n",
       "      <td>0.451062</td>\n",
       "      <td>0.129901</td>\n",
       "      <td>-0.720803</td>\n",
       "      <td>-0.165673</td>\n",
       "      <td>...</td>\n",
       "      <td>0.057338</td>\n",
       "      <td>-0.410575</td>\n",
       "      <td>-0.128617</td>\n",
       "      <td>-0.399623</td>\n",
       "      <td>0.242117</td>\n",
       "      <td>0.813368</td>\n",
       "      <td>0.123571</td>\n",
       "      <td>0.520437</td>\n",
       "      <td>0.183966</td>\n",
       "      <td>-0.631004</td>\n",
       "    </tr>\n",
       "    <tr>\n",
       "      <th>4</th>\n",
       "      <td>-1.131172</td>\n",
       "      <td>-0.330140</td>\n",
       "      <td>-1.266159</td>\n",
       "      <td>-0.400146</td>\n",
       "      <td>-1.034490</td>\n",
       "      <td>-0.824826</td>\n",
       "      <td>-0.705843</td>\n",
       "      <td>-0.716363</td>\n",
       "      <td>-0.269475</td>\n",
       "      <td>0.128523</td>\n",
       "      <td>...</td>\n",
       "      <td>0.700729</td>\n",
       "      <td>0.516674</td>\n",
       "      <td>-0.401095</td>\n",
       "      <td>0.142648</td>\n",
       "      <td>-0.515610</td>\n",
       "      <td>-0.637605</td>\n",
       "      <td>0.093218</td>\n",
       "      <td>-0.611734</td>\n",
       "      <td>-0.880228</td>\n",
       "      <td>-0.582362</td>\n",
       "    </tr>\n",
       "    <tr>\n",
       "      <th>...</th>\n",
       "      <td>...</td>\n",
       "      <td>...</td>\n",
       "      <td>...</td>\n",
       "      <td>...</td>\n",
       "      <td>...</td>\n",
       "      <td>...</td>\n",
       "      <td>...</td>\n",
       "      <td>...</td>\n",
       "      <td>...</td>\n",
       "      <td>...</td>\n",
       "      <td>...</td>\n",
       "      <td>...</td>\n",
       "      <td>...</td>\n",
       "      <td>...</td>\n",
       "      <td>...</td>\n",
       "      <td>...</td>\n",
       "      <td>...</td>\n",
       "      <td>...</td>\n",
       "      <td>...</td>\n",
       "      <td>...</td>\n",
       "      <td>...</td>\n",
       "    </tr>\n",
       "    <tr>\n",
       "      <th>980</th>\n",
       "      <td>0.296836</td>\n",
       "      <td>-0.521332</td>\n",
       "      <td>-0.743390</td>\n",
       "      <td>-0.564775</td>\n",
       "      <td>-0.214689</td>\n",
       "      <td>-0.273846</td>\n",
       "      <td>-0.334508</td>\n",
       "      <td>-0.731643</td>\n",
       "      <td>-1.039507</td>\n",
       "      <td>0.063062</td>\n",
       "      <td>...</td>\n",
       "      <td>-0.537794</td>\n",
       "      <td>-0.970227</td>\n",
       "      <td>-0.663563</td>\n",
       "      <td>0.795951</td>\n",
       "      <td>0.344783</td>\n",
       "      <td>-0.792261</td>\n",
       "      <td>0.182435</td>\n",
       "      <td>0.407574</td>\n",
       "      <td>-0.076317</td>\n",
       "      <td>-1.133900</td>\n",
       "    </tr>\n",
       "    <tr>\n",
       "      <th>981</th>\n",
       "      <td>0.596864</td>\n",
       "      <td>0.444528</td>\n",
       "      <td>-0.632329</td>\n",
       "      <td>-1.831464</td>\n",
       "      <td>-0.491170</td>\n",
       "      <td>0.515064</td>\n",
       "      <td>0.143606</td>\n",
       "      <td>0.229877</td>\n",
       "      <td>-0.077114</td>\n",
       "      <td>-1.198574</td>\n",
       "      <td>...</td>\n",
       "      <td>0.526848</td>\n",
       "      <td>-1.205569</td>\n",
       "      <td>0.093824</td>\n",
       "      <td>0.142226</td>\n",
       "      <td>0.616667</td>\n",
       "      <td>-0.131023</td>\n",
       "      <td>-0.518090</td>\n",
       "      <td>-0.642263</td>\n",
       "      <td>0.134253</td>\n",
       "      <td>0.287990</td>\n",
       "    </tr>\n",
       "    <tr>\n",
       "      <th>982</th>\n",
       "      <td>0.778888</td>\n",
       "      <td>-1.115455</td>\n",
       "      <td>-0.043438</td>\n",
       "      <td>0.473619</td>\n",
       "      <td>0.896462</td>\n",
       "      <td>0.084208</td>\n",
       "      <td>0.137988</td>\n",
       "      <td>-0.241010</td>\n",
       "      <td>0.598388</td>\n",
       "      <td>1.363985</td>\n",
       "      <td>...</td>\n",
       "      <td>0.382369</td>\n",
       "      <td>1.687925</td>\n",
       "      <td>-1.628786</td>\n",
       "      <td>-0.264210</td>\n",
       "      <td>-0.777731</td>\n",
       "      <td>0.678998</td>\n",
       "      <td>0.968165</td>\n",
       "      <td>0.249955</td>\n",
       "      <td>-0.371629</td>\n",
       "      <td>-1.311389</td>\n",
       "    </tr>\n",
       "    <tr>\n",
       "      <th>983</th>\n",
       "      <td>-0.210305</td>\n",
       "      <td>0.565424</td>\n",
       "      <td>-0.676184</td>\n",
       "      <td>-2.148426</td>\n",
       "      <td>-0.619119</td>\n",
       "      <td>0.823736</td>\n",
       "      <td>1.445811</td>\n",
       "      <td>0.435253</td>\n",
       "      <td>-0.228469</td>\n",
       "      <td>-1.450857</td>\n",
       "      <td>...</td>\n",
       "      <td>1.120699</td>\n",
       "      <td>-1.424177</td>\n",
       "      <td>0.423754</td>\n",
       "      <td>0.841147</td>\n",
       "      <td>0.527429</td>\n",
       "      <td>-0.429332</td>\n",
       "      <td>-0.342120</td>\n",
       "      <td>-0.306727</td>\n",
       "      <td>0.751407</td>\n",
       "      <td>0.732673</td>\n",
       "    </tr>\n",
       "    <tr>\n",
       "      <th>984</th>\n",
       "      <td>-0.882487</td>\n",
       "      <td>-0.534715</td>\n",
       "      <td>-0.446646</td>\n",
       "      <td>0.538277</td>\n",
       "      <td>-1.455200</td>\n",
       "      <td>0.151911</td>\n",
       "      <td>-0.744820</td>\n",
       "      <td>-0.456616</td>\n",
       "      <td>-2.002682</td>\n",
       "      <td>-0.630766</td>\n",
       "      <td>...</td>\n",
       "      <td>0.137156</td>\n",
       "      <td>-1.940731</td>\n",
       "      <td>0.570626</td>\n",
       "      <td>1.582583</td>\n",
       "      <td>-0.110579</td>\n",
       "      <td>-0.796674</td>\n",
       "      <td>-0.185757</td>\n",
       "      <td>0.445169</td>\n",
       "      <td>-1.717284</td>\n",
       "      <td>0.104910</td>\n",
       "    </tr>\n",
       "  </tbody>\n",
       "</table>\n",
       "<p>985 rows × 10470 columns</p>\n",
       "</div>"
      ],
      "text/plain": [
       "        0         1         2         3         4         5         6      \\\n",
       "0   -0.612002 -0.268180 -0.078856 -0.293919 -0.118790 -0.107290  0.335953   \n",
       "1   -0.196510  0.019859 -0.733039 -0.574758 -0.235882  0.506257  0.613946   \n",
       "2   -0.109816  0.887895  0.871472  0.614770 -0.121797  0.298413 -1.119890   \n",
       "3   -0.034599  0.632800  0.573131  0.529035  1.019047  0.204743  0.451062   \n",
       "4   -1.131172 -0.330140 -1.266159 -0.400146 -1.034490 -0.824826 -0.705843   \n",
       "..        ...       ...       ...       ...       ...       ...       ...   \n",
       "980  0.296836 -0.521332 -0.743390 -0.564775 -0.214689 -0.273846 -0.334508   \n",
       "981  0.596864  0.444528 -0.632329 -1.831464 -0.491170  0.515064  0.143606   \n",
       "982  0.778888 -1.115455 -0.043438  0.473619  0.896462  0.084208  0.137988   \n",
       "983 -0.210305  0.565424 -0.676184 -2.148426 -0.619119  0.823736  1.445811   \n",
       "984 -0.882487 -0.534715 -0.446646  0.538277 -1.455200  0.151911 -0.744820   \n",
       "\n",
       "        7         8         9      ...     10460     10461     10462  \\\n",
       "0   -0.114067  0.163793 -0.214333  ... -0.181467  0.249024 -0.001954   \n",
       "1    0.149886  0.662143  0.335947  ... -0.282211 -0.164279 -0.056532   \n",
       "2    1.382633 -0.566734 -1.524254  ... -0.577719 -0.296053  0.687364   \n",
       "3    0.129901 -0.720803 -0.165673  ...  0.057338 -0.410575 -0.128617   \n",
       "4   -0.716363 -0.269475  0.128523  ...  0.700729  0.516674 -0.401095   \n",
       "..        ...       ...       ...  ...       ...       ...       ...   \n",
       "980 -0.731643 -1.039507  0.063062  ... -0.537794 -0.970227 -0.663563   \n",
       "981  0.229877 -0.077114 -1.198574  ...  0.526848 -1.205569  0.093824   \n",
       "982 -0.241010  0.598388  1.363985  ...  0.382369  1.687925 -1.628786   \n",
       "983  0.435253 -0.228469 -1.450857  ...  1.120699 -1.424177  0.423754   \n",
       "984 -0.456616 -2.002682 -0.630766  ...  0.137156 -1.940731  0.570626   \n",
       "\n",
       "        10463     10464     10465     10466     10467     10468     10469  \n",
       "0   -0.261730 -0.072834  0.451187  0.082207  0.249784  0.048215 -0.797497  \n",
       "1    0.088607  0.029535 -0.116663 -0.325038  0.913666 -0.096774 -0.158495  \n",
       "2    0.926397  0.072695  2.111372  1.911088  0.410132  1.162528 -1.184241  \n",
       "3   -0.399623  0.242117  0.813368  0.123571  0.520437  0.183966 -0.631004  \n",
       "4    0.142648 -0.515610 -0.637605  0.093218 -0.611734 -0.880228 -0.582362  \n",
       "..        ...       ...       ...       ...       ...       ...       ...  \n",
       "980  0.795951  0.344783 -0.792261  0.182435  0.407574 -0.076317 -1.133900  \n",
       "981  0.142226  0.616667 -0.131023 -0.518090 -0.642263  0.134253  0.287990  \n",
       "982 -0.264210 -0.777731  0.678998  0.968165  0.249955 -0.371629 -1.311389  \n",
       "983  0.841147  0.527429 -0.429332 -0.342120 -0.306727  0.751407  0.732673  \n",
       "984  1.582583 -0.110579 -0.796674 -0.185757  0.445169 -1.717284  0.104910  \n",
       "\n",
       "[985 rows x 10470 columns]"
      ]
     },
     "execution_count": 69,
     "metadata": {},
     "output_type": "execute_result"
    }
   ],
   "source": [
    "df=df.transpose()\n",
    "df"
   ]
  },
  {
   "cell_type": "code",
   "execution_count": 70,
   "id": "f4f30fff",
   "metadata": {},
   "outputs": [],
   "source": [
    "for word in neuro_dict:\n",
    "    neuro_dict[word]=np.array(df[neuro_dict[word]])"
   ]
  },
  {
   "cell_type": "code",
   "execution_count": 71,
   "id": "02eba347",
   "metadata": {},
   "outputs": [],
   "source": [
    "#Calculate Euclidean distance\n",
    "def calculate_neuro_dist(string1,string2):\n",
    "#     arr=neuro_dict[string1]-neuro_dict[string2]\n",
    "#     return np.linalg.norm(arr)\n",
    "    return spatial.distance.cosine(neuro_dict[string1],neuro_dict[string2])"
   ]
  },
  {
   "cell_type": "code",
   "execution_count": 72,
   "id": "62d7c7f3",
   "metadata": {},
   "outputs": [],
   "source": [
    "def neuro_distance(string):\n",
    "    max_dist=0\n",
    "    max_words=[]\n",
    "    for word in neuro_dict.keys():\n",
    "        dist=calculate_neuro_dist(word,string)\n",
    "        if dist>max_dist:\n",
    "            max_words.append((dist,word))\n",
    "    return max_words"
   ]
  },
  {
   "cell_type": "code",
   "execution_count": 73,
   "id": "38a5812b",
   "metadata": {},
   "outputs": [],
   "source": [
    "neuro_word_dict={\"date\":\"\",\"goose\":\"\",\"knight\":\"\",\"juice\":\"\",\"night\":\"\",\"queen\":\"\",\"water\":\"\",\n",
    "            \"daughter\":\"\",\"wilderness\":\"\",\"relative\":\"\",\"environment\":\"\",\"ambassador\":\"\"}\n"
   ]
  },
  {
   "cell_type": "code",
   "execution_count": 74,
   "id": "c29d068c",
   "metadata": {},
   "outputs": [],
   "source": [
    "for string in neuro_dict.keys():\n",
    "    max_words=neuro_distance(string)\n",
    "    neuro_word_dict[string]=max_words\n",
    "    "
   ]
  },
  {
   "cell_type": "code",
   "execution_count": 75,
   "id": "586adf8d",
   "metadata": {},
   "outputs": [],
   "source": [
    "for word in neuro_word_dict.keys():\n",
    "    neuro_word_dict[word]=sorted(neuro_word_dict[word])"
   ]
  },
  {
   "cell_type": "code",
   "execution_count": 76,
   "id": "ee29271b",
   "metadata": {},
   "outputs": [],
   "source": [
    "neuro_pairs={0:\"\",1:\"\",3:\"\",4:\"\",6:\"\",7:\"\",10:\"\",11:\"\",14:\"\",15:\"\",18:\"\",19:\"\"}"
   ]
  },
  {
   "cell_type": "code",
   "execution_count": 77,
   "id": "e80ed025",
   "metadata": {},
   "outputs": [],
   "source": [
    "indices=[0,1,2,-1,-2,-3]\n",
    "for i,word in enumerate(neuro_word_dict.keys()):\n",
    "    li=[]\n",
    "    for j in indices:\n",
    "        li.append(num_dict[neuro_word_dict[word][j][1]])\n",
    "    neuro_pairs[num_dict[word]]=li"
   ]
  },
  {
   "cell_type": "code",
   "execution_count": 79,
   "id": "1eb0bfe3",
   "metadata": {},
   "outputs": [],
   "source": [
    "# import pickle\n",
    "# with open('/Users/zachariah/Downloads/Dissertation_files/neuro_pairs.pickle', 'wb') as file:\n",
    "#     pickle.dump(neuro_pairs, file, protocol=pickle.HIGHEST_PROTOCOL)\n",
    "    \n",
    "# with open('/Users/zachariah/Downloads/Dissertation_files/neuro_pairs.pickle', \"rb\") as file:\n",
    "#     neuro_pairs = pickle.load(file)"
   ]
  },
  {
   "cell_type": "code",
   "execution_count": 80,
   "id": "0b87b7fb",
   "metadata": {},
   "outputs": [],
   "source": [
    "# with open('/Users/zachariah/Downloads/Dissertation_files/neuro_pairs.pickle', \"rb\") as file:\n",
    "#     neuro_pairs = pickle.load(file)"
   ]
  },
  {
   "cell_type": "code",
   "execution_count": 81,
   "id": "586a67f5",
   "metadata": {},
   "outputs": [
    {
     "data": {
      "text/plain": [
       "{0: [11, 19, 7, 10, 18, 4],\n",
       " 1: [4, 14, 7, 18, 15, 0],\n",
       " 3: [7, 19, 11, 18, 10, 4],\n",
       " 4: [10, 1, 6, 19, 3, 15],\n",
       " 6: [11, 10, 4, 15, 18, 19],\n",
       " 7: [11, 3, 19, 18, 4, 10],\n",
       " 10: [4, 6, 1, 19, 0, 11],\n",
       " 11: [7, 3, 19, 18, 10, 4],\n",
       " 14: [1, 3, 18, 0, 6, 4],\n",
       " 15: [18, 19, 14, 6, 4, 11],\n",
       " 18: [15, 14, 10, 6, 11, 7],\n",
       " 19: [7, 3, 11, 10, 4, 6]}"
      ]
     },
     "execution_count": 81,
     "metadata": {},
     "output_type": "execute_result"
    }
   ],
   "source": [
    "neuro_pairs"
   ]
  },
  {
   "cell_type": "code",
   "execution_count": 82,
   "id": "cb24f6a2",
   "metadata": {},
   "outputs": [],
   "source": [
    "arr={}\n",
    "for key in neuro_pairs.keys():\n",
    "    a=[]\n",
    "    for index in neuro_pairs[key]:\n",
    "        a.append(word_dict[index])\n",
    "    arr[word_dict[key]]=a"
   ]
  },
  {
   "cell_type": "code",
   "execution_count": 83,
   "id": "403c8269",
   "metadata": {},
   "outputs": [
    {
     "data": {
      "text/plain": [
       "{'date': ['daughter', 'ambassador', 'queen', 'water', 'environment', 'juice'],\n",
       " 'goose': ['juice', 'wilderness', 'queen', 'environment', 'relative', 'date'],\n",
       " 'knight': ['queen',\n",
       "  'ambassador',\n",
       "  'daughter',\n",
       "  'environment',\n",
       "  'water',\n",
       "  'juice'],\n",
       " 'juice': ['water', 'goose', 'night', 'ambassador', 'knight', 'relative'],\n",
       " 'night': ['daughter',\n",
       "  'water',\n",
       "  'juice',\n",
       "  'relative',\n",
       "  'environment',\n",
       "  'ambassador'],\n",
       " 'queen': ['daughter',\n",
       "  'knight',\n",
       "  'ambassador',\n",
       "  'environment',\n",
       "  'juice',\n",
       "  'water'],\n",
       " 'water': ['juice', 'night', 'goose', 'ambassador', 'date', 'daughter'],\n",
       " 'daughter': ['queen',\n",
       "  'knight',\n",
       "  'ambassador',\n",
       "  'environment',\n",
       "  'water',\n",
       "  'juice'],\n",
       " 'wilderness': ['goose', 'knight', 'environment', 'date', 'night', 'juice'],\n",
       " 'relative': ['environment',\n",
       "  'ambassador',\n",
       "  'wilderness',\n",
       "  'night',\n",
       "  'juice',\n",
       "  'daughter'],\n",
       " 'environment': ['relative',\n",
       "  'wilderness',\n",
       "  'water',\n",
       "  'night',\n",
       "  'daughter',\n",
       "  'queen'],\n",
       " 'ambassador': ['queen', 'knight', 'daughter', 'water', 'juice', 'night']}"
      ]
     },
     "execution_count": 83,
     "metadata": {},
     "output_type": "execute_result"
    }
   ],
   "source": [
    "arr"
   ]
  },
  {
   "cell_type": "markdown",
   "id": "f54fa233",
   "metadata": {},
   "source": [
    "## ACOUSTIC DISTANCE METRIC"
   ]
  },
  {
   "cell_type": "code",
   "execution_count": 84,
   "id": "b64521e2",
   "metadata": {},
   "outputs": [],
   "source": [
    "import numpy as np\n",
    "from scipy.io.wavfile import read\n",
    "from scipy import spatial"
   ]
  },
  {
   "cell_type": "code",
   "execution_count": 85,
   "id": "b18ce908",
   "metadata": {},
   "outputs": [],
   "source": [
    "acoustic_dict={\"Date\":\"\",\"Goose\":\"\",\"Spruce\":\"\",\"Knight\":\"\",\"Juice\":\"\",\"Moose\":\"\",\"Night\":\"\",\"Queen\":\"\",\"Berry\":\"\",\n",
    "               \"Hedgehog\":\"\",\"Water\":\"\",\"Daughter\":\"\",\"Gooseberry\":\"\",\"Waterfowl\":\"\",\"Wilderness\":\"\",\"Relative\":\"\",\n",
    "               \"Watermelon\":\"\",\"Caterpillar\":\"\",\"Environment\":\"\",\"Ambassador\":\"\"}\n"
   ]
  },
  {
   "cell_type": "code",
   "execution_count": 86,
   "id": "c112dd68",
   "metadata": {},
   "outputs": [],
   "source": [
    "num_dict={'Date': 0,'Goose': 1,'Spruce': 2,'Knight': 3,'Juice': 4,'Moose': 5,'Night': 6,'Queen': 7,'Berry': 8,'Hedgehog': 9,'Water': 10,'Daughter': 11,'Gooseberry': 12,'Waterfowl': 13,'Wilderness': 14,'Relative': 15,'Watermelon': 16,'Caterpillar': 17,'Environment': 18,'Ambassador': 19}\n"
   ]
  },
  {
   "cell_type": "code",
   "execution_count": 87,
   "id": "405a6774",
   "metadata": {},
   "outputs": [
    {
     "name": "stdout",
     "output_type": "stream",
     "text": [
      "27648\n"
     ]
    }
   ],
   "source": [
    "max=0\n",
    "for key in acoustic_dict.keys():\n",
    "    a = np.array(read('/Users/zachariah/Downloads/wavs/'+key+'.wav')[1],dtype=float)\n",
    "    if len(a)>max:\n",
    "        max=len(a)\n",
    "    acoustic_dict[key]=a\n",
    "print(max)"
   ]
  },
  {
   "cell_type": "code",
   "execution_count": 88,
   "id": "e6933cc6",
   "metadata": {},
   "outputs": [],
   "source": [
    "for key in acoustic_dict.keys():\n",
    "    n=max-len(acoustic_dict[key])\n",
    "    arr=np.zeros(n)\n",
    "    acoustic_dict[key]=np.concatenate((acoustic_dict[key],arr))"
   ]
  },
  {
   "cell_type": "code",
   "execution_count": 89,
   "id": "b9764ac0",
   "metadata": {},
   "outputs": [],
   "source": [
    "def calculate_acoustic_dist(string1,string2):\n",
    "    return spatial.distance.cosine(acoustic_dict[string1],acoustic_dict[string2])"
   ]
  },
  {
   "cell_type": "code",
   "execution_count": 90,
   "id": "3592927a",
   "metadata": {},
   "outputs": [],
   "source": [
    "def acoustic_distance(string):\n",
    "    max_dist=0\n",
    "    max_words=[]\n",
    "    for word in acoustic_dict.keys():\n",
    "        dist=calculate_acoustic_dist(word,string)\n",
    "        if dist>max_dist:\n",
    "            max_words.append((dist,word))\n",
    "    return max_words"
   ]
  },
  {
   "cell_type": "code",
   "execution_count": 91,
   "id": "915b19b8",
   "metadata": {},
   "outputs": [],
   "source": [
    "acoustic_word_dict={\"Date\":\"\",\"Goose\":\"\",\"Spruce\":\"\",\"Knight\":\"\",\"Juice\":\"\",\"Moose\":\"\",\"Night\":\"\",\"Queen\":\"\",\"Berry\":\"\",\n",
    "               \"Hedgehog\":\"\",\"Water\":\"\",\"Daughter\":\"\",\"Gooseberry\":\"\",\"Waterfowl\":\"\",\"Wilderness\":\"\",\"Relative\":\"\",\n",
    "               \"Watermelon\":\"\",\"Caterpillar\":\"\",\"Environment\":\"\",\"Ambassador\":\"\"}"
   ]
  },
  {
   "cell_type": "code",
   "execution_count": 92,
   "id": "3984a76d",
   "metadata": {},
   "outputs": [],
   "source": [
    "for string in acoustic_dict.keys():\n",
    "    max_words=acoustic_distance(string)\n",
    "    acoustic_word_dict[string]=max_words"
   ]
  },
  {
   "cell_type": "code",
   "execution_count": 93,
   "id": "777fcc48",
   "metadata": {},
   "outputs": [],
   "source": [
    "for word in acoustic_word_dict.keys():\n",
    "    acoustic_word_dict[word]=sorted(acoustic_word_dict[word])"
   ]
  },
  {
   "cell_type": "code",
   "execution_count": 94,
   "id": "aad46222",
   "metadata": {},
   "outputs": [],
   "source": [
    "acoustic_pairs={0:\"\",1:\"\",2:\"\",3:\"\",4:\"\",5:\"\",6:\"\",7:\"\",8:\"\",9:\"\",10:\"\",11:\"\",12:\"\",13:\"\",14:\"\",15:\"\",16:\"\",\n",
    "                   17:\"\",18:\"\",19:\"\"}"
   ]
  },
  {
   "cell_type": "code",
   "execution_count": 95,
   "id": "3e6ceff5",
   "metadata": {},
   "outputs": [],
   "source": [
    "indices=[0,1,2,-1,-2,-3]\n",
    "for i,word in enumerate(acoustic_word_dict.keys()):\n",
    "    li=[]\n",
    "    for j in indices:\n",
    "        li.append(num_dict[acoustic_word_dict[word][j][1]])\n",
    "    acoustic_pairs[num_dict[word]]=li\n",
    "acoustic_pairs_1=acoustic_pairs"
   ]
  },
  {
   "cell_type": "code",
   "execution_count": 96,
   "id": "7fc69f7e",
   "metadata": {},
   "outputs": [
    {
     "data": {
      "text/plain": [
       "{0: [13, 8, 15, 6, 3, 18],\n",
       " 1: [16, 17, 11, 5, 0, 8],\n",
       " 2: [13, 18, 15, 17, 16, 14],\n",
       " 3: [19, 15, 5, 0, 1, 8],\n",
       " 4: [19, 11, 15, 17, 10, 6],\n",
       " 5: [8, 19, 3, 1, 7, 15],\n",
       " 6: [19, 15, 5, 0, 1, 8],\n",
       " 7: [18, 4, 2, 11, 15, 9],\n",
       " 8: [5, 0, 4, 14, 1, 11],\n",
       " 9: [11, 15, 12, 10, 7, 17],\n",
       " 10: [15, 16, 1, 9, 11, 14],\n",
       " 11: [9, 4, 15, 7, 10, 16],\n",
       " 12: [16, 9, 15, 13, 14, 10],\n",
       " 13: [11, 0, 14, 12, 16, 10],\n",
       " 14: [11, 13, 18, 16, 10, 8],\n",
       " 15: [11, 9, 4, 7, 5, 18],\n",
       " 16: [12, 1, 17, 14, 11, 18],\n",
       " 17: [1, 16, 12, 19, 7, 18],\n",
       " 18: [14, 7, 4, 0, 16, 17],\n",
       " 19: [4, 11, 3, 17, 7, 0]}"
      ]
     },
     "execution_count": 96,
     "metadata": {},
     "output_type": "execute_result"
    }
   ],
   "source": [
    "acoustic_pairs"
   ]
  },
  {
   "cell_type": "code",
   "execution_count": 97,
   "id": "6ef30108",
   "metadata": {},
   "outputs": [],
   "source": [
    "arr={}\n",
    "for key in acoustic_pairs.keys():\n",
    "    a=[]\n",
    "    for index in acoustic_pairs[key]:\n",
    "        a.append(word_dict[index])\n",
    "    arr[word_dict[key]]=a"
   ]
  },
  {
   "cell_type": "code",
   "execution_count": 98,
   "id": "abbad427",
   "metadata": {},
   "outputs": [
    {
     "data": {
      "text/plain": [
       "{'date': ['waterfowl', 'berry', 'relative', 'night', 'knight', 'environment'],\n",
       " 'goose': ['watermelon', 'caterpillar', 'daughter', 'moose', 'date', 'berry'],\n",
       " 'spruce': ['waterfowl',\n",
       "  'environment',\n",
       "  'relative',\n",
       "  'caterpillar',\n",
       "  'watermelon',\n",
       "  'wilderness'],\n",
       " 'knight': ['ambassador', 'relative', 'moose', 'date', 'goose', 'berry'],\n",
       " 'juice': ['ambassador',\n",
       "  'daughter',\n",
       "  'relative',\n",
       "  'caterpillar',\n",
       "  'water',\n",
       "  'night'],\n",
       " 'moose': ['berry', 'ambassador', 'knight', 'goose', 'queen', 'relative'],\n",
       " 'night': ['ambassador', 'relative', 'moose', 'date', 'goose', 'berry'],\n",
       " 'queen': ['environment',\n",
       "  'juice',\n",
       "  'spruce',\n",
       "  'daughter',\n",
       "  'relative',\n",
       "  'hedgehog'],\n",
       " 'berry': ['moose', 'date', 'juice', 'wilderness', 'goose', 'daughter'],\n",
       " 'hedgehog': ['daughter',\n",
       "  'relative',\n",
       "  'gooseberry',\n",
       "  'water',\n",
       "  'queen',\n",
       "  'caterpillar'],\n",
       " 'water': ['relative',\n",
       "  'watermelon',\n",
       "  'goose',\n",
       "  'hedgehog',\n",
       "  'daughter',\n",
       "  'wilderness'],\n",
       " 'daughter': ['hedgehog', 'juice', 'relative', 'queen', 'water', 'watermelon'],\n",
       " 'gooseberry': ['watermelon',\n",
       "  'hedgehog',\n",
       "  'relative',\n",
       "  'waterfowl',\n",
       "  'wilderness',\n",
       "  'water'],\n",
       " 'waterfowl': ['daughter',\n",
       "  'date',\n",
       "  'wilderness',\n",
       "  'gooseberry',\n",
       "  'watermelon',\n",
       "  'water'],\n",
       " 'wilderness': ['daughter',\n",
       "  'waterfowl',\n",
       "  'environment',\n",
       "  'watermelon',\n",
       "  'water',\n",
       "  'berry'],\n",
       " 'relative': ['daughter',\n",
       "  'hedgehog',\n",
       "  'juice',\n",
       "  'queen',\n",
       "  'moose',\n",
       "  'environment'],\n",
       " 'watermelon': ['gooseberry',\n",
       "  'goose',\n",
       "  'caterpillar',\n",
       "  'wilderness',\n",
       "  'daughter',\n",
       "  'environment'],\n",
       " 'caterpillar': ['goose',\n",
       "  'watermelon',\n",
       "  'gooseberry',\n",
       "  'ambassador',\n",
       "  'queen',\n",
       "  'environment'],\n",
       " 'environment': ['wilderness',\n",
       "  'queen',\n",
       "  'juice',\n",
       "  'date',\n",
       "  'watermelon',\n",
       "  'caterpillar'],\n",
       " 'ambassador': ['juice', 'daughter', 'knight', 'caterpillar', 'queen', 'date']}"
      ]
     },
     "execution_count": 98,
     "metadata": {},
     "output_type": "execute_result"
    }
   ],
   "source": [
    "arr"
   ]
  },
  {
   "cell_type": "code",
   "execution_count": 30,
   "id": "d6e7715c",
   "metadata": {},
   "outputs": [],
   "source": [
    "# import pickle\n",
    "# with open('/Users/zachariah/Downloads/Dissertation_files/acoustic_pairs.pickle', 'wb') as file:\n",
    "#     pickle.dump(acoustic_pairs, file, protocol=pickle.HIGHEST_PROTOCOL)\n",
    "    \n",
    "# with open('/Users/zachariah/Downloads/Dissertation_files/acoustic_pairs.pickle', \"rb\") as file:\n",
    "#     acoustic_pairs = pickle.load(file)"
   ]
  },
  {
   "cell_type": "code",
   "execution_count": null,
   "id": "c78056a9",
   "metadata": {},
   "outputs": [],
   "source": []
  }
 ],
 "metadata": {
  "kernelspec": {
   "display_name": "Python 3 (ipykernel)",
   "language": "python",
   "name": "python3"
  },
  "language_info": {
   "codemirror_mode": {
    "name": "ipython",
    "version": 3
   },
   "file_extension": ".py",
   "mimetype": "text/x-python",
   "name": "python",
   "nbconvert_exporter": "python",
   "pygments_lexer": "ipython3",
   "version": "3.7.11"
  }
 },
 "nbformat": 4,
 "nbformat_minor": 5
}
