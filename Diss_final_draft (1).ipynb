{
  "cells": [
    {
      "cell_type": "code",
      "execution_count": 2,
      "metadata": {
        "id": "_b9Fs993YEbu",
        "colab": {
          "base_uri": "https://localhost:8080/"
        },
        "outputId": "e8a39ed1-c139-43ac-b9dc-8af12c111c40"
      },
      "outputs": [
        {
          "output_type": "stream",
          "name": "stdout",
          "text": [
            "Mounted at /content/gdrive\n"
          ]
        }
      ],
      "source": [
        "from google.colab import drive\n",
        "drive.mount('/content/gdrive')"
      ]
    },
    {
      "cell_type": "code",
      "execution_count": 3,
      "metadata": {
        "id": "TysQpJJC3-AW"
      },
      "outputs": [],
      "source": [
        "from numpy.random import seed\n",
        "import tensorflow as tf\n",
        "\n",
        "seed_value=2\n"
      ]
    },
    {
      "cell_type": "code",
      "execution_count": 4,
      "metadata": {
        "id": "4OHOCdNhB0ep"
      },
      "outputs": [],
      "source": [
        "import scipy.io\n",
        "import pandas as pd\n",
        "import numpy as np"
      ]
    },
    {
      "cell_type": "code",
      "execution_count": 5,
      "metadata": {
        "id": "2veMj5xlCLyv"
      },
      "outputs": [],
      "source": [
        "def epoching(data,x):\n",
        "    n=int(data.shape[1]/x)\n",
        "    epoched_data=[]\n",
        "    for i in range(n):\n",
        "        epoched_data.append(data[:,x*i:x*(i+1)])\n",
        "    epoched_data=np.array(epoched_data)\n",
        "    return epoched_data"
      ]
    },
    {
      "cell_type": "markdown",
      "metadata": {
        "id": "p3PZIOyACr_3"
      },
      "source": [
        "## Importing y_array"
      ]
    },
    {
      "cell_type": "code",
      "execution_count": 6,
      "metadata": {
        "id": "rfeOXtLVCkfY"
      },
      "outputs": [],
      "source": [
        "def create_y():\n",
        "  y_array=np.load('gdrive/My Drive/Dissertation_files/word_list.npy')\n",
        "  return y_array\n",
        "  "
      ]
    },
    {
      "cell_type": "markdown",
      "metadata": {
        "id": "qNRnE9-3C2HW"
      },
      "source": [
        "## EXTRACTING ALPHA, BETA, GAMMA BANDS"
      ]
    },
    {
      "cell_type": "code",
      "execution_count": 7,
      "metadata": {
        "colab": {
          "base_uri": "https://localhost:8080/"
        },
        "id": "rInzr-HkgITX",
        "outputId": "0634f753-f211-4b90-d0d6-eb3bd6a97bb4"
      },
      "outputs": [
        {
          "output_type": "stream",
          "name": "stdout",
          "text": [
            "Looking in indexes: https://pypi.org/simple, https://us-python.pkg.dev/colab-wheels/public/simple/\n",
            "Collecting mne\n",
            "  Downloading mne-1.1.1-py3-none-any.whl (7.5 MB)\n",
            "\u001b[K     |████████████████████████████████| 7.5 MB 6.5 MB/s \n",
            "\u001b[?25hRequirement already satisfied: decorator in /usr/local/lib/python3.7/dist-packages (from mne) (4.4.2)\n",
            "Requirement already satisfied: pooch>=1.5 in /usr/local/lib/python3.7/dist-packages (from mne) (1.6.0)\n",
            "Requirement already satisfied: jinja2 in /usr/local/lib/python3.7/dist-packages (from mne) (2.11.3)\n",
            "Requirement already satisfied: numpy>=1.15.4 in /usr/local/lib/python3.7/dist-packages (from mne) (1.21.6)\n",
            "Requirement already satisfied: packaging in /usr/local/lib/python3.7/dist-packages (from mne) (21.3)\n",
            "Requirement already satisfied: scipy>=1.1.0 in /usr/local/lib/python3.7/dist-packages (from mne) (1.7.3)\n",
            "Requirement already satisfied: tqdm in /usr/local/lib/python3.7/dist-packages (from mne) (4.64.0)\n",
            "Requirement already satisfied: matplotlib in /usr/local/lib/python3.7/dist-packages (from mne) (3.2.2)\n",
            "Requirement already satisfied: appdirs>=1.3.0 in /usr/local/lib/python3.7/dist-packages (from pooch>=1.5->mne) (1.4.4)\n",
            "Requirement already satisfied: requests>=2.19.0 in /usr/local/lib/python3.7/dist-packages (from pooch>=1.5->mne) (2.23.0)\n",
            "Requirement already satisfied: pyparsing!=3.0.5,>=2.0.2 in /usr/local/lib/python3.7/dist-packages (from packaging->mne) (3.0.9)\n",
            "Requirement already satisfied: chardet<4,>=3.0.2 in /usr/local/lib/python3.7/dist-packages (from requests>=2.19.0->pooch>=1.5->mne) (3.0.4)\n",
            "Requirement already satisfied: certifi>=2017.4.17 in /usr/local/lib/python3.7/dist-packages (from requests>=2.19.0->pooch>=1.5->mne) (2022.6.15)\n",
            "Requirement already satisfied: idna<3,>=2.5 in /usr/local/lib/python3.7/dist-packages (from requests>=2.19.0->pooch>=1.5->mne) (2.10)\n",
            "Requirement already satisfied: urllib3!=1.25.0,!=1.25.1,<1.26,>=1.21.1 in /usr/local/lib/python3.7/dist-packages (from requests>=2.19.0->pooch>=1.5->mne) (1.24.3)\n",
            "Requirement already satisfied: MarkupSafe>=0.23 in /usr/local/lib/python3.7/dist-packages (from jinja2->mne) (2.0.1)\n",
            "Requirement already satisfied: kiwisolver>=1.0.1 in /usr/local/lib/python3.7/dist-packages (from matplotlib->mne) (1.4.4)\n",
            "Requirement already satisfied: cycler>=0.10 in /usr/local/lib/python3.7/dist-packages (from matplotlib->mne) (0.11.0)\n",
            "Requirement already satisfied: python-dateutil>=2.1 in /usr/local/lib/python3.7/dist-packages (from matplotlib->mne) (2.8.2)\n",
            "Requirement already satisfied: typing-extensions in /usr/local/lib/python3.7/dist-packages (from kiwisolver>=1.0.1->matplotlib->mne) (4.1.1)\n",
            "Requirement already satisfied: six>=1.5 in /usr/local/lib/python3.7/dist-packages (from python-dateutil>=2.1->matplotlib->mne) (1.15.0)\n",
            "Installing collected packages: mne\n",
            "Successfully installed mne-1.1.1\n"
          ]
        }
      ],
      "source": [
        "pip install mne"
      ]
    },
    {
      "cell_type": "code",
      "execution_count": 8,
      "metadata": {
        "id": "LDsZuKYwHwAd"
      },
      "outputs": [],
      "source": [
        "import mne"
      ]
    },
    {
      "cell_type": "code",
      "execution_count": 9,
      "metadata": {
        "id": "OsS65w_xCkw-"
      },
      "outputs": [],
      "source": [
        "def visualise_data(data):\n",
        "  sfreq = 128\n",
        "  ch_names = [\"F3\",\"FC5\",\"AF3\",\"F7\",\"T7\",\"P7\",\"O1\",\"O2\",\"P8\",\"T8\",\"F8\",\"AF4\",\"FC6\",\"F4\"]\n",
        "  info = mne.create_info(ch_names = ch_names, sfreq = sfreq)\n",
        "  raw = mne.io.RawArray(data, info)\n",
        "  raw.plot()    ##Channel signals\n",
        "  raw.plot_psd(tmax=np.inf, average=True,picks='all') ##PSD Curve\n",
        "\n",
        "  return"
      ]
    },
    {
      "cell_type": "code",
      "execution_count": 11,
      "metadata": {
        "id": "uwKkGD61HsYv"
      },
      "outputs": [],
      "source": [
        "def extract_bands(data):\n",
        "  seed(seed_value)\n",
        "  tf.random.set_seed(seed_value)\n",
        "\n",
        "  continuous_data=[]\n",
        "  trials=data.shape[0]\n",
        "  channels=data.shape[1]\n",
        "  sample_size=data.shape[2]\n",
        "  for i in range(channels):\n",
        "      continuous_data.append(data[:,i].reshape(trials*sample_size))\n",
        "  continuous_data=np.array(continuous_data)\n",
        "\n",
        "  # visualise_data(continuous_data)\n",
        "\n",
        "  alpha_continuous=mne.filter.filter_data(continuous_data, 128, 8, 12)\n",
        "  beta_continuous=mne.filter.filter_data(continuous_data, 128, 12, 30)\n",
        "  gamma_continuous=mne.filter.filter_data(continuous_data, 128, 30, 50)\n",
        "\n",
        "  x=sample_size\n",
        "\n",
        "  alpha_epoched=epoching(alpha_continuous,x)\n",
        "  beta_epoched=epoching(beta_continuous,x)\n",
        "  gamma_epoched=epoching(gamma_continuous,x)\n",
        "\n",
        "  return alpha_epoched,beta_epoched,gamma_epoched"
      ]
    },
    {
      "cell_type": "markdown",
      "metadata": {
        "id": "aLh9dyRrHins"
      },
      "source": [
        "## Feature Extraction 1"
      ]
    },
    {
      "cell_type": "code",
      "execution_count": 12,
      "metadata": {
        "id": "CdUQalPACk2y"
      },
      "outputs": [],
      "source": [
        "from pywt import wavedec\n",
        "from sklearn.preprocessing import StandardScaler"
      ]
    },
    {
      "cell_type": "code",
      "execution_count": 13,
      "metadata": {
        "id": "Wjf1hqQBCk65"
      },
      "outputs": [],
      "source": [
        "def calc_features(arr):\n",
        "    rms = np.sqrt(np.mean(arr**2,axis=2))\n",
        "    var = np.var(arr, axis=2)\n",
        "    kur = scipy.stats.kurtosis(arr, axis=2)\n",
        "    skew = scipy.stats.skew(arr, axis=2)\n",
        "    moment = scipy.stats.moment(arr, moment=3, axis=2)\n",
        "    \n",
        "    res=np.concatenate((rms,var,kur,skew,moment),axis=1)\n",
        "    \n",
        "    return res\n",
        "\n",
        "\n",
        "    "
      ]
    },
    {
      "cell_type": "code",
      "execution_count": 14,
      "metadata": {
        "id": "hC70ahqkCk-a"
      },
      "outputs": [],
      "source": [
        "def extract_features_dwt(data):\n",
        "  seed(seed_value)\n",
        "  tf.random.set_seed(seed_value)\n",
        "  \n",
        "  coeffs=wavedec(data, 'db2', level=3)\n",
        "  coeffs.append(data)\n",
        "  res=[]\n",
        "  for arr in coeffs:\n",
        "    res.append(calc_features(arr))\n",
        "  x_array=np.concatenate((res[0],res[1],res[2],res[3],res[4]),axis=1)\n",
        "  \n",
        "  scaler = StandardScaler()\n",
        "  scaler.fit(x_array)\n",
        "  x_array = scaler.transform(x_array)\n",
        "\n",
        "  return x_array"
      ]
    },
    {
      "cell_type": "markdown",
      "metadata": {
        "id": "9ZwnH6-CIeVM"
      },
      "source": [
        "## Feature Extraction 2"
      ]
    },
    {
      "cell_type": "code",
      "execution_count": 15,
      "metadata": {
        "id": "RARBAvwuH12K"
      },
      "outputs": [],
      "source": [
        "from scipy.signal import hilbert\n",
        "from scipy.signal import welch\n",
        "from scipy.signal import csd,coherence"
      ]
    },
    {
      "cell_type": "code",
      "execution_count": 16,
      "metadata": {
        "id": "_hVZr0a2H16J"
      },
      "outputs": [],
      "source": [
        "def msc(arr1,arr2):\n",
        "    msc=coherence(arr1,arr2,fs=128,window=\"hamm\",nperseg=8)[1]\n",
        "    return np.mean(msc)"
      ]
    },
    {
      "cell_type": "code",
      "execution_count": 17,
      "metadata": {
        "id": "lL6WV5mEH18t"
      },
      "outputs": [],
      "source": [
        "def mpc(arr1,arr2):\n",
        "    imag_1=np.imag(hilbert(arr1))  #Imaginary part of hilbert transform\n",
        "    imag_2=np.imag(hilbert(arr2))\n",
        "    phase_1=np.arctan(imag_1/arr1)  #Real part is equal to actual array values\n",
        "    phase_2=np.arctan(imag_2/arr2)\n",
        "    phase_diff=(phase_1-phase_2)\n",
        "    mpc=np.linalg.norm(np.sum(np.exp(1j*phase_diff)))/len(arr1)\n",
        "    return mpc"
      ]
    },
    {
      "cell_type": "code",
      "execution_count": 18,
      "metadata": {
        "id": "82pImFyxH2CW"
      },
      "outputs": [],
      "source": [
        "def extract_features_coherence(data):\n",
        "  alpha_epoched,beta_epoched,gamma_epoched=extract_bands(data)\n",
        "\n",
        "  n=alpha_epoched.shape[0]\n",
        "  m=alpha_epoched.shape[1]\n",
        "  l=alpha_epoched.shape[2]\n",
        "\n",
        "  mpc_alpha=np.zeros([n,m,m])\n",
        "  mpc_beta=np.zeros([n,m,m])\n",
        "  mpc_gamma=np.zeros([n,m,m])\n",
        "\n",
        "  msc_alpha=np.zeros([n,m,m])\n",
        "  msc_beta=np.zeros([n,m,m])\n",
        "  msc_gamma=np.zeros([n,m,m])\n",
        "\n",
        "  #Calculating MPC and MSC\n",
        "  for i in range(n):\n",
        "    for j in range(m):\n",
        "        for k in range(m):\n",
        "            \n",
        "            mpc_alpha[i][j][k]=mpc(alpha_epoched[i][j],alpha_epoched[i][k])\n",
        "            msc_alpha[i][j][k]=msc(alpha_epoched[i][j],alpha_epoched[i][k])\n",
        "            \n",
        "            mpc_beta[i][j][k]=mpc(beta_epoched[i][j],beta_epoched[i][k])\n",
        "            msc_beta[i][j][k]=msc(beta_epoched[i][j],beta_epoched[i][k])\n",
        "            \n",
        "            mpc_gamma[i][j][k]=mpc(gamma_epoched[i][j],gamma_epoched[i][k])\n",
        "            msc_gamma[i][j][k]=msc(gamma_epoched[i][j],gamma_epoched[i][k])\n",
        "\n",
        "    # if i%50==0:   \n",
        "    #   print(i,end=\" \")\n",
        "\n",
        "  x_array=np.zeros([n,m,m,3])\n",
        "\n",
        "  #Creating 3D array for CNN\n",
        "  for i in range(n):\n",
        "    for j in range(m):\n",
        "        for k in range(m):\n",
        "            if j<k:\n",
        "                x_array[i][j][k]=[mpc_alpha[i][j][k],mpc_beta[i][j][k],mpc_gamma[i][j][k]]\n",
        "            elif j>k:\n",
        "                x_array[i][j][k]=[msc_alpha[i][j][k],msc_beta[i][j][k],msc_gamma[i][j][k]] \n",
        "\n",
        "  # x_array_cnn=x_array\n",
        "\n",
        "  #Creating 1D array for ML\n",
        "  a=x_array.reshape(n,m*m*3)\n",
        "  a=a[a!=0.0]\n",
        "  x_array=a.reshape(n,m*m*3-m*3) \n",
        "\n",
        "  return x_array"
      ]
    },
    {
      "cell_type": "markdown",
      "metadata": {
        "id": "bfKFJI1yPuNe"
      },
      "source": [
        "## Loading word pairs based on distance metrics"
      ]
    },
    {
      "cell_type": "code",
      "execution_count": 19,
      "metadata": {
        "id": "_9HPcgmvQzNg"
      },
      "outputs": [],
      "source": [
        "import pickle"
      ]
    },
    {
      "cell_type": "code",
      "execution_count": 20,
      "metadata": {
        "id": "fYn44IT6Qz6h"
      },
      "outputs": [],
      "source": [
        "num_dict={0:'date',1:'goose',2:'spruce',3:'knight',4:'juice',5:'moose',6:'night',7:'queen',8:'berry',\n",
        "          9:'hedgehog',10:'water',11:'daughter',12:'gooseberry',13:'waterfowl',14:'wilderness',\n",
        "          15:'relative',16:'watermelon',17:'caterpillar',18:'environment',19:'ambassador'}"
      ]
    },
    {
      "cell_type": "code",
      "execution_count": 21,
      "metadata": {
        "id": "6SqdQ7QvQBKq"
      },
      "outputs": [],
      "source": [
        "def pairs():\n",
        "  complete_pairs={}\n",
        "  x=np.arange(20)\n",
        "  for i in range(20):\n",
        "      complete_pairs[i]=list(x[x!=i])\n",
        "\n",
        "  long_pairs={}\n",
        "  x=np.arange(12,20)\n",
        "  for i in range(12,20):\n",
        "      long_pairs[i]=list(x[x!=i])\n",
        "\n",
        "  short_pairs={}\n",
        "  x=np.arange(12)\n",
        "  for i in range(12):\n",
        "      short_pairs[i]=list(x[x!=i])\n",
        "\n",
        "  with open('gdrive/My Drive/Dissertation_files/levenshtein_pairs.pickle', \"rb\") as file:\n",
        "    levenshtein_pairs = pickle.load(file)\n",
        "\n",
        "  with open('gdrive/My Drive/Dissertation_files/word2vec_pairs.pickle', \"rb\") as file:\n",
        "    word2vec_pairs = pickle.load(file)\n",
        "\n",
        "  with open('gdrive/My Drive/Dissertation_files/phonetic_pairs.pickle', \"rb\") as file:\n",
        "    phonetic_pairs = pickle.load(file)\n",
        "  \n",
        "  with open('gdrive/My Drive/Dissertation_files/neuro_pairs.pickle', \"rb\") as file:\n",
        "    neuro_pairs = pickle.load(file)\n",
        "\n",
        "  with open('gdrive/My Drive/Dissertation_files/acoustic_pairs.pickle', \"rb\") as file:\n",
        "    acoustic_pairs = pickle.load(file)  \n",
        "  \n",
        "  return [complete_pairs,long_pairs,short_pairs,levenshtein_pairs,word2vec_pairs,phonetic_pairs,neuro_pairs,acoustic_pairs]"
      ]
    },
    {
      "cell_type": "markdown",
      "metadata": {
        "id": "RAw0WNQFRdvn"
      },
      "source": [
        "## Calculating results"
      ]
    },
    {
      "cell_type": "code",
      "execution_count": 22,
      "metadata": {
        "id": "DcFm1opqMOsC"
      },
      "outputs": [],
      "source": [
        "from sklearn.ensemble import RandomForestClassifier\n",
        "from sklearn import svm\n",
        "from sklearn.metrics import accuracy_score\n",
        "from collections import Counter\n",
        "from sklearn.model_selection import train_test_split\n",
        "from sklearn.model_selection import cross_val_score\n",
        "from sklearn.model_selection import GridSearchCV\n",
        "from sklearn.model_selection import StratifiedKFold"
      ]
    },
    {
      "cell_type": "code",
      "execution_count": 85,
      "metadata": {
        "id": "IpuZ1U0qRooG"
      },
      "outputs": [],
      "source": [
        "def model_rf(x_train,y_train,x_test,y_test):\n",
        "    seed(seed_value)\n",
        "    tf.random.set_seed(seed_value)\n",
        "\n",
        "    random = RandomForestClassifier()\n",
        "    distributions = dict(max_depth=[4,5,6],n_estimators=[10,15],criterion=['gini'])\n",
        "    clf = GridSearchCV(random, distributions,cv=5)\n",
        "    clf.fit(x_train,y_train)\n",
        "\n",
        "    a=clf.best_params_\n",
        "    clf = RandomForestClassifier(max_depth=a[\"max_depth\"],n_estimators=a['n_estimators'],\n",
        "                                 criterion=a['criterion'])\n",
        "    train_scores = cross_val_score(clf, x_train, y_train, cv=5, scoring='f1_macro')\n",
        "    train_acc=np.mean(train_scores)\n",
        "    test_scores = cross_val_score(clf, x_test, y_test, cv=5, scoring='f1_macro')\n",
        "    test_acc=np.mean(test_scores)\n",
        "\n",
        "    return train_acc,test_acc"
      ]
    },
    {
      "cell_type": "code",
      "execution_count": 86,
      "metadata": {
        "id": "X81iiRNzRoui"
      },
      "outputs": [],
      "source": [
        "def model_svm(x_train,y_train,x_test,y_test):\n",
        "    seed(seed_value)\n",
        "    tf.random.set_seed(seed_value)\n",
        "\n",
        "    model=svm.SVC()\n",
        "    distributions = dict(kernel=['sigmoid'],C=[0.9,1])  #C is optimised\n",
        "    clf = GridSearchCV(model, distributions,cv=StratifiedKFold(n_splits=5, shuffle=False))\n",
        "    clf.fit(x_train,y_train)\n",
        "\n",
        "    a=clf.best_params_\n",
        "    clf = svm.SVC(kernel=a[\"kernel\"],C=a[\"C\"])\n",
        "    train_scores = cross_val_score(clf, x_train, y_train, cv=5, scoring='f1_macro')\n",
        "    train_acc=np.mean(train_scores)\n",
        "    test_scores = cross_val_score(clf, x_test, y_test, cv=5, scoring='f1_macro')\n",
        "    test_acc=np.mean(test_scores)  \n",
        "\n",
        "    return train_acc,test_acc\n"
      ]
    },
    {
      "cell_type": "code",
      "execution_count": 25,
      "metadata": {
        "id": "YkaRByHWRoz9"
      },
      "outputs": [],
      "source": [
        "def get_arrays(a,b,x_array,y_array):\n",
        "    seed(seed_value)\n",
        "    tf.random.set_seed(seed_value)\n",
        "\n",
        "    index=np.where((y_array==a) | (y_array==b))\n",
        "    x=x_array[index]\n",
        "    y=y_array[index]\n",
        "    if b==0:\n",
        "      y[y==a]=1\n",
        "      y[y==b]=0\n",
        "    else:\n",
        "      y[y==a]=0\n",
        "      y[y==b]=1 \n",
        "    x_train, x_test, y_train, y_test = train_test_split(x, y, test_size=0.15,shuffle=False)\n",
        "    return x_train, x_test, y_train, y_test"
      ]
    },
    {
      "cell_type": "code",
      "execution_count": 26,
      "metadata": {
        "id": "4mRSSAK5Ro2i"
      },
      "outputs": [],
      "source": [
        "def calculate_results(dict1,x_array,y_array): \n",
        "    for i in dict1.keys():\n",
        "        n=len(dict1[i])\n",
        "        break                                          # n=Number of words to calculate acccuracy for each root word\n",
        "    rf_test=np.zeros([len(dict1.keys()),n])\n",
        "    rf_train=np.zeros([len(dict1.keys()),n])\n",
        "    svm_test=np.zeros([len(dict1.keys()),n])\n",
        "    svm_train=np.zeros([len(dict1.keys()),n])\n",
        "    cnn_test=np.zeros([len(dict1.keys()),n])\n",
        "    cnn_train=np.zeros([len(dict1.keys()),n])\n",
        "    word_list=[]\n",
        "    for i,word_index in enumerate(dict1.keys()):\n",
        "        words=[]\n",
        "        for j in range(len(dict1[word_index])):\n",
        "            words.append(num_dict[dict1[word_index][j]])  \n",
        "            x_train, x_test, y_train, y_test=get_arrays(word_index,dict1[word_index][j],x_array,y_array)\n",
        "            train_acc,test_acc=model_rf(x_train, y_train, x_test, y_test)\n",
        "            rf_test[i][j]=round(test_acc*100,2) \n",
        "            rf_train[i][j]=round(train_acc*100,2)\n",
        "            train_acc,test_acc=model_svm(x_train, y_train, x_test, y_test)\n",
        "            svm_test[i][j]=round(test_acc*100,2)\n",
        "            svm_train[i][j]=round(train_acc*100,2)\n",
        "            train_acc,test_acc=model_cnn(x_train, y_train, x_test, y_test)\n",
        "            cnn_test[i][j]=round(test_acc*100,2)\n",
        "            cnn_train[i][j]=round(train_acc*100,2)\n",
        "        word_list.append(words)\n",
        "    \n",
        "    return rf_test,rf_train,svm_test,svm_train,cnn_test,cnn_train\n",
        "\n",
        "        \n",
        "        "
      ]
    },
    {
      "cell_type": "code",
      "execution_count": 27,
      "metadata": {
        "id": "pMWI5tvvUQuh"
      },
      "outputs": [],
      "source": [
        "def multi_class_svm(x,y):\n",
        "    seed(seed_value)\n",
        "    tf.random.set_seed(seed_value)\n",
        "    \n",
        "    x_train, x_test, y_train, y_test = train_test_split(x, y, test_size=0.15, random_state=0,shuffle=False)\n",
        "    model=svm.SVC()\n",
        "    distributions = dict(kernel=['sigmoid'],C=[0.9,1])  #C is optimised\n",
        "    clf = GridSearchCV(model, distributions,cv=StratifiedKFold(n_splits=5))\n",
        "    clf.fit(x_train,y_train)\n",
        "\n",
        "    a=clf.best_params_\n",
        "    clf = svm.SVC(kernel=a[\"kernel\"],C=a[\"C\"])\n",
        "    train_scores = cross_val_score(clf, x_train, y_train, cv=5, scoring='f1_macro')\n",
        "    train_acc=np.mean(train_scores)\n",
        "    test_scores = cross_val_score(clf, x_test, y_test, cv=5, scoring='f1_macro')\n",
        "    test_acc=np.mean(test_scores) \n",
        "\n",
        "    # a=np.std(test_scores)\n",
        "    # return round(a*100,2)\n",
        "  \n",
        "    return train_acc,test_acc\n",
        "    "
      ]
    },
    {
      "cell_type": "code",
      "execution_count": 77,
      "metadata": {
        "id": "7s1PZtvbUbN4"
      },
      "outputs": [],
      "source": [
        "def multi_class_rf(x,y):\n",
        "    seed(seed_value)\n",
        "    tf.random.set_seed(seed_value)\n",
        "    \n",
        "    x_train, x_test, y_train, y_test = train_test_split(x, y, test_size=0.15, random_state=0,shuffle=False)\n",
        "    random = RandomForestClassifier()\n",
        "    distributions = dict(max_depth=[4,5,6],n_estimators=[10,15],criterion=['gini'])\n",
        "    clf = GridSearchCV(random, distributions,cv=StratifiedKFold(n_splits=5))\n",
        "    clf.fit(x_train,y_train)\n",
        "\n",
        "    a=clf.best_params_\n",
        "    clf = RandomForestClassifier(max_depth=a[\"max_depth\"],n_estimators=a['n_estimators'],\n",
        "                                 criterion=a['criterion'])\n",
        "    train_scores = cross_val_score(clf, x_train, y_train, cv=5, scoring='f1_macro')\n",
        "    train_acc=np.mean(train_scores)\n",
        "    test_scores = cross_val_score(clf, x_test, y_test, cv=5, scoring='f1_macro')\n",
        "    test_acc=np.mean(test_scores)\n",
        "\n",
        "    # a=np.std(test_scores)\n",
        "    # return round(a*100,2)\n",
        "\n",
        "    return train_acc,test_acc"
      ]
    },
    {
      "cell_type": "code",
      "execution_count": 29,
      "metadata": {
        "id": "CLCUtNwkUQ9a"
      },
      "outputs": [],
      "source": [
        "import keras\n",
        "import tensorflow as tf\n",
        "from keras import Sequential\n",
        "from keras.losses import SparseCategoricalCrossentropy\n",
        "from keras.layers.core import Activation,Dense,Dropout\n",
        "from keras.layers import BatchNormalization\n",
        "from tensorflow.keras.optimizers import Adam,SGD\n",
        "\n",
        "\n",
        "\n",
        "def create_model(m,n):\n",
        "  seed(seed_value)\n",
        "  tf.random.set_seed(seed_value)\n",
        "\n",
        "  model = Sequential()\n",
        "\n",
        "\n",
        "  model.add(Dense(64, input_dim=m,kernel_initializer='random_normal',bias_initializer='zeros'))\n",
        "  model.add(BatchNormalization())\n",
        "  model.add(Activation('tanh'))\n",
        "\n",
        "  model.add(Dense(64,kernel_initializer='random_normal',bias_initializer='zeros'))\n",
        "  model.add(BatchNormalization())\n",
        "  model.add(Activation('relu'))\n",
        "  model.add(Dropout(0.1))\n",
        "\n",
        "  model.add(Dense(n,kernel_initializer='random_normal',bias_initializer='zeros'))\n",
        "  model.add(BatchNormalization())\n",
        "  model.add(Activation('softmax'))\n",
        "  \n",
        "  return model\n",
        "\n",
        "  "
      ]
    },
    {
      "cell_type": "code",
      "execution_count": 30,
      "metadata": {
        "id": "UCyFb1hv727R"
      },
      "outputs": [],
      "source": [
        "# plot_model(create_model(278,20),show_shapes=True,show_layer_names=True)"
      ]
    },
    {
      "cell_type": "code",
      "execution_count": 84,
      "metadata": {
        "id": "GUiTlvIHRpB_"
      },
      "outputs": [],
      "source": [
        "def model_cnn(x_train,y_train,x_test,y_test):\n",
        "    seed(seed_value)\n",
        "    tf.random.set_seed(seed_value)\n",
        "\n",
        "    m=x_train.shape[1]\n",
        "    n=len(np.unique(y_train))\n",
        "    model=create_model(m,n)\n",
        "\n",
        "    opt = SGD(learning_rate=0.1, decay=1e-6, momentum=0.9, nesterov=True)\n",
        "    loss_fn = SparseCategoricalCrossentropy()\n",
        "    model.compile(loss=loss_fn, optimizer=opt,metrics=[\"accuracy\"])\n",
        "\n",
        "    model.fit(x_train, y_train, epochs=30, batch_size=16, validation_split=0.2,verbose = 0)\n",
        "\n",
        "    score, test_acc = model.evaluate(x_test, y_test, verbose=0)\n",
        "    score, train_acc = model.evaluate(x_train, y_train, verbose=0)\n",
        "\n",
        "\n",
        "    return train_acc,test_acc\n",
        "\n"
      ]
    },
    {
      "cell_type": "code",
      "execution_count": 83,
      "metadata": {
        "id": "WunbdTFlRpR5"
      },
      "outputs": [],
      "source": [
        "\n",
        "def multi_class_cnn(x,y):\n",
        "  seed(seed_value)\n",
        "  tf.random.set_seed(seed_value)\n",
        "  \n",
        "  x_train, x_test, y_train, y_test = train_test_split(x, y, test_size=0.15,shuffle=False)\n",
        "\n",
        "\n",
        "  m=x.shape[1]\n",
        "  n=len(np.unique(y))\n",
        "  model=create_model(m,n)\n",
        "\n",
        "\n",
        "  sgd = SGD(learning_rate=0.1, decay=1e-6, momentum=0.9, nesterov=True)\n",
        "  loss_fn = SparseCategoricalCrossentropy()\n",
        "  model.compile(loss=loss_fn, optimizer=sgd,metrics=[\"accuracy\"])\n",
        "\n",
        "  model.fit(x_train, y_train, epochs=30, batch_size=16, validation_split=0.2,verbose = 0)\n",
        "\n",
        "  score, test_acc = model.evaluate(x_test, y_test, verbose=0)\n",
        "  score, train_acc = model.evaluate(x_train, y_train, verbose=0)\n",
        "\n",
        "  return train_acc,test_acc"
      ]
    },
    {
      "cell_type": "markdown",
      "metadata": {
        "id": "5taIJyZTctAY"
      },
      "source": [
        "## Calculating accuracies"
      ]
    },
    {
      "cell_type": "code",
      "source": [],
      "metadata": {
        "id": "EmhK8ktqgLEN"
      },
      "execution_count": null,
      "outputs": []
    },
    {
      "cell_type": "code",
      "execution_count": 33,
      "metadata": {
        "id": "m1EpTtmRff_i"
      },
      "outputs": [],
      "source": [
        "def epoching(data,x):\n",
        "    n=int(data.shape[1]/x)\n",
        "    epoched_data=[]\n",
        "    for i in range(n):\n",
        "        epoched_data.append(data[:,x*i:x*(i+1)])\n",
        "    epoched_data=np.array(epoched_data)\n",
        "    return epoched_data"
      ]
    },
    {
      "cell_type": "code",
      "execution_count": 34,
      "metadata": {
        "id": "jQzHRDGnsHV4"
      },
      "outputs": [],
      "source": [
        "def other_pairs_acc(rf_test,rf_train,svm_test,svm_train,cnn_test,cnn_train,complete_pairs,pair_list):\n",
        "  print(complete_pairs)\n",
        "  print(len(pair_list))\n",
        "  rf_test_list=[]\n",
        "  rf_train_list=[]\n",
        "  svm_test_list=[]\n",
        "  svm_train_list=[]\n",
        "  cnn_test_list=[]\n",
        "  cnn_train_list=[]\n",
        "  for num,pairs in enumerate(pair_list):\n",
        "      m=len(pairs.keys())\n",
        "      if num>1:\n",
        "          n=6\n",
        "      else:\n",
        "          n=m-1\n",
        "      rf_test_=np.zeros([m,n])\n",
        "      rf_train_=np.zeros([m,n])\n",
        "      svm_test_=np.zeros([m,n])\n",
        "      svm_train_=np.zeros([m,n])\n",
        "      cnn_test_=np.zeros([m,n])\n",
        "      cnn_train_=np.zeros([m,n])\n",
        "      for i,key in enumerate(pairs.keys()):\n",
        "          for j,value in enumerate(pairs[key]):\n",
        "              rf_test_[i][j]=rf_test[key][complete_pairs[key].index(value)]\n",
        "              rf_train_[i][j]=rf_train[key][complete_pairs[key].index(value)]\n",
        "              svm_test_[i][j]=svm_test[key][complete_pairs[key].index(value)]\n",
        "              svm_train_[i][j]=svm_train[key][complete_pairs[key].index(value)]\n",
        "              cnn_test_[i][j]=cnn_test[key][complete_pairs[key].index(value)]\n",
        "              cnn_train_[i][j]=cnn_train[key][complete_pairs[key].index(value)]\n",
        "      \n",
        "      rf_test_list.append(rf_test_)\n",
        "      rf_train_list.append(rf_train_)\n",
        "      svm_test_list.append(svm_test_)\n",
        "      svm_train_list.append(svm_train_)\n",
        "      cnn_test_list.append(cnn_test_)\n",
        "      cnn_train_list.append(cnn_train_)\n",
        "\n",
        "  return rf_test_list,rf_train_list,svm_test_list,svm_train_list,cnn_test_list,cnn_train_list\n",
        "\n"
      ]
    },
    {
      "cell_type": "code",
      "execution_count": 35,
      "metadata": {
        "id": "jzS7OspdeC9J"
      },
      "outputs": [],
      "source": [
        "def multi(x_array,y_array):\n",
        "  order=[\"rf_test_complete\",\"svm_test_complete\",\"cnn_test_complete\",\"rf_test_long\",\n",
        "         \"svm_test_long\",\"cnn_test_long\",\"rf_test_short\",\"svm_test_short\",\"cnn_test_short\"]\n",
        "  \n",
        "  seed(seed_value)\n",
        "  tf.random.set_seed(seed_value)\n",
        "\n",
        "  a=round(multi_class_rf(x_array,y_array)[1],2)\n",
        "  b=round(multi_class_svm(x_array,y_array)[1],2)\n",
        "  c=round(multi_class_cnn(x_array,y_array)[1],2)\n",
        "  \n",
        "  p=np.in1d(y_array,list(range(12,20)))\n",
        "  x_array_lo=x_array[p]\n",
        "  y_array_lo=y_array[p]\n",
        "  for i,key in enumerate(np.unique(y_array_lo)):\n",
        "    y_array_lo[y_array_lo==key]=i\n",
        "\n",
        "\n",
        "  d=round(multi_class_rf(x_array_lo,y_array_lo)[1],2)\n",
        "  e=round(multi_class_svm(x_array_lo,y_array_lo)[1],2)\n",
        "  f=round(multi_class_cnn(x_array_lo,y_array_lo)[1],2)\n",
        "\n",
        "\n",
        "  p=np.in1d(y_array,list(range(12)))\n",
        "  x_array_sh=x_array[p]\n",
        "  y_array_sh=y_array[p]\n",
        "  for i,key in enumerate(np.unique(y_array_sh)):\n",
        "    y_array_sh[y_array_sh==key]=i\n",
        "\n",
        "  g=round(multi_class_rf(x_array_sh,y_array_sh)[1],2)\n",
        "  h=round(multi_class_svm(x_array_sh,y_array_sh)[1],2)\n",
        "  i=round(multi_class_cnn(x_array_sh,y_array_sh)[1],2)\n",
        "\n",
        "  return [a,b,c,d,e,f,g,h,i]\n",
        "\n"
      ]
    },
    {
      "cell_type": "code",
      "execution_count": 36,
      "metadata": {
        "id": "931KlLYLpWXo"
      },
      "outputs": [],
      "source": [
        "def metric_score(arr):\n",
        "  arr=np.array(arr)\n",
        "  a=round((np.mean(arr[:,3:])-np.mean(arr[:,:3])),2)\n",
        "  return a"
      ]
    },
    {
      "cell_type": "code",
      "execution_count": 37,
      "metadata": {
        "id": "bUrOlWToWhqX"
      },
      "outputs": [],
      "source": [
        "from sklearn.decomposition import PCA\n",
        "def pca(x_array):\n",
        "  pca = PCA(.98)\n",
        "  pca.fit(x_array)\n",
        "  x_array = pca.transform(x_array)\n",
        "  return x_array"
      ]
    },
    {
      "cell_type": "code",
      "execution_count": 38,
      "metadata": {
        "id": "Duv4EsjKM6l3"
      },
      "outputs": [],
      "source": [
        "def shuffle(x,y):\n",
        "  p = np.random.RandomState(seed=0).permutation(len(y))\n",
        "  x=x[p]\n",
        "  y=y[p]\n",
        "  return x,y"
      ]
    },
    {
      "cell_type": "code",
      "execution_count": 39,
      "metadata": {
        "id": "t4CI_Z1vClAb"
      },
      "outputs": [],
      "source": [
        "def main(df):\n",
        "\n",
        "  seed(seed_value)\n",
        "  tf.random.set_seed(seed_value)\n",
        "\n",
        "  data=np.array(df)\n",
        "  data=data.transpose()\n",
        "  x=int(data.shape[1]/1000)\n",
        "\n",
        "  epoched_data=epoching(data,x)\n",
        "\n",
        "  y_array=create_y()\n",
        "\n",
        "  x_array_1=extract_features_dwt(epoched_data)\n",
        "  x_array_1=pca(x_array_1)\n",
        "  x_array_1,y_array_1=shuffle(x_array_1,y_array)\n",
        "\n",
        "  # with open('gdrive/My Drive/Dissertation_arrays/'+participant+\"_\"+speech_type+\"_X1\", 'wb') as file:\n",
        "  #   pickle.dump([x_array_1,y_array_1], file, protocol=pickle.HIGHEST_PROTOCOL)\n",
        "\n",
        "\n",
        "  x_array_2=extract_features_coherence(epoched_data)\n",
        "  x_array_2=pca(x_array_2)\n",
        "  x_array_2,y_array_2=shuffle(x_array_2,y_array)\n",
        "  print(\"done\")\n",
        "\n",
        "  # with open('gdrive/My Drive/Dissertation_arrays/'+participant+\"_\"+speech_type+\"_X2\", 'wb') as file:\n",
        "  #   pickle.dump([x_array_2,y_array_2], file, protocol=pickle.HIGHEST_PROTOCOL)\n",
        "\n",
        "  pair_list=pairs()\n",
        "\n",
        "  rf_test_1,rf_train_1,svm_test_1,svm_train_1,cnn_test_1,cnn_train_1=calculate_results(pair_list[0],x_array_1,y_array_1)\n",
        "  print(\"done\")\n",
        "\n",
        "  rf_test_2,rf_train_2,svm_test_2,svm_train_2,cnn_test_2,cnn_train_2=calculate_results(pair_list[0],x_array_2,y_array_2)\n",
        "  print(\"done\")\n",
        "\n",
        "  rf_test_list_1,rf_train_list_1,svm_test_list_1,svm_train_list_1,cnn_test_list_1,cnn_train_list_1=other_pairs_acc(rf_test_1,rf_train_1,svm_test_1,svm_train_1,cnn_test_1,cnn_train_1,pair_list[0],pair_list[1:])\n",
        "\n",
        "  rf_test_list_2,rf_train_list_2,svm_test_list_2,svm_train_list_2,cnn_test_list_2,cnn_train_list_2=other_pairs_acc(rf_test_2,rf_train_2,svm_test_2,svm_train_2,cnn_test_2,cnn_train_2,pair_list[0],pair_list[1:])\n",
        "                                                                                                                 \n",
        "\n",
        "  #Adding accuracies of complete pairs for feature extraction 1  \n",
        "  rf_test_list_1.append(rf_test_1)\n",
        "  rf_train_list_1.append(rf_train_1)\n",
        "  svm_test_list_1.append(svm_test_1)\n",
        "  svm_train_list_1.append(svm_train_1)\n",
        "  cnn_test_list_1.append(cnn_test_1)\n",
        "  cnn_train_list_1.append(cnn_train_1)\n",
        "\n",
        "  # Adding accuracies of complete pairs for feature extraction 2\n",
        "  rf_test_list_2.append(rf_test_2)\n",
        "  rf_train_list_2.append(rf_train_2)\n",
        "  svm_test_list_2.append(svm_test_2)\n",
        "  svm_train_list_2.append(svm_train_2)\n",
        "  cnn_test_list_2.append(cnn_test_2)\n",
        "  cnn_train_list_2.append(cnn_train_2)\n",
        "\n",
        "  test_acc_list_1=[rf_test_list_1,svm_test_list_1,cnn_test_list_1]\n",
        "  train_acc_list_1=[rf_train_list_1,svm_train_list_1,cnn_train_list_1]\n",
        "\n",
        "  # with open('gdrive/My Drive/Dissertation_results/'+participant+\"_\"+speech_type+\"/test_acc_list_1\", 'wb') as file:\n",
        "  #   pickle.dump(test_acc_list_1, file, protocol=pickle.HIGHEST_PROTOCOL)\n",
        "\n",
        "  test_acc_list_2=[rf_test_list_2,svm_test_list_2,cnn_test_list_2]\n",
        "  train_acc_list_2=[rf_train_list_2,svm_train_list_2,cnn_train_list_2]\n",
        "\n",
        "  # with open('gdrive/My Drive/Dissertation_results/'+participant+\"_\"+speech_type+\"/test_acc_list_2\", 'wb') as file:\n",
        "  #     pickle.dump(test_acc_list_2, file, protocol=pickle.HIGHEST_PROTOCOL)\n",
        "\n",
        "  multi_class_1=multi(x_array_1,y_array_1)\n",
        "  multi_class_2=multi(x_array_2,y_array_2)\n",
        "  print(multi_class_1)\n",
        "  print(multi_class_2)\n",
        "\n",
        "  return test_acc_list_1,train_acc_list_1,test_acc_list_2,train_acc_list_2,multi_class_1,multi_class_2\n",
        "\n",
        "\n"
      ]
    },
    {
      "cell_type": "code",
      "execution_count": 40,
      "metadata": {
        "id": "R34HBmIfxwQr"
      },
      "outputs": [],
      "source": [
        "binary_order=[\"all_words_mean_rf\",\"all_words_sd_rf\",\"all_words_mean_svm\",\"all_words_sd_svm\",\"all_words_mean_cnn\",\"all_words_sd_cnn\",\"long_words_mean_rf\",\n",
        "       \"long_words_sd_rf\",\"long_words_mean_svm\",\"long_words_sd_svm\",\"long_words_mean_cnn\",\"long_words_sd_cnn\",\n",
        "       \"short_words_mean_rf\",\"short_words_sd_rf\",\"short_words_mean_svm\",\"short_words_sd_svm\",\"short_words_mean_cnn\",\"short_words_sd_cnn\",\n",
        "       \"levenshtein_diff_rf\",\"levenshtein_diff_svm\",\"levenshtein_diff_cnn\",\"word2vec_diff_rf\",\"word2vec_diff_svm\",\"word2vec_diff_cnn\",\n",
        "       \"phonetic_distance_rf\",\"phonetic_distance_svm\",\"phonetic_distance_cnn\",\"neuro_diff_rf\",\"neuro_diff_svm\",\"neuro_diff_cnn\",\"acoustic_diff_rf\",\n",
        "       \"acoustic_diff_svm\",\"acoustic_diff_cnn\"]\n",
        "\n",
        "multi_order=[\"rf_test_complete\",\"svm_test_complete\",\"cnn_test_complete\",\"rf_test_long\",\n",
        "         \"svm_test_long\",\"cnn_test_long\",\"rf_test_short\",\"svm_test_short\",\"cnn_test_short\"]\n",
        "\n",
        "\n",
        "\n",
        "pair_list_order=\"[long_pairs,short_pairs,levenshtein_pairs,word2vec_pairs,phonetic_pairs,neuro_pairs,acoustic_pairs,complete_pairs]\"\n",
        "\n",
        "\n",
        "def save(participant,speech_type,test_acc_list_1,test_acc_list_2,multi_class_1,multi_class_2):\n",
        "  results_binary_1=[]\n",
        "  results_binary_2=[]\n",
        "  results_multi_1=multi_class_1\n",
        "  results_multi_2=multi_class_2\n",
        "\n",
        "\n",
        "  for i in [-1,0,1]:\n",
        "    for j in range(3):\n",
        "      results_binary_1.append(round(np.mean(test_acc_list_1[j][i]),2))\n",
        "      results_binary_1.append(round(np.std(test_acc_list_1[j][i]),2))\n",
        "      results_binary_2.append(round(np.mean(test_acc_list_2[j][i]),2))\n",
        "      results_binary_2.append(round(np.std(test_acc_list_2[j][i]),2))\n",
        "\n",
        "  for i in range(2,7):\n",
        "    for j in range(3):\n",
        "      results_binary_1.append(metric_score(test_acc_list_1[j][i]))\n",
        "      results_binary_2.append(metric_score(test_acc_list_2[j][i]))\n",
        "\n",
        "\n",
        "  with open('gdrive/My Drive/Dissertation_results/'+participant+\"_\"+speech_type+\"/results_binary_1\", 'wb') as file:\n",
        "      pickle.dump(results_binary_1, file, protocol=pickle.HIGHEST_PROTOCOL)\n",
        "\n",
        "\n",
        "  with open('gdrive/My Drive/Dissertation_results/'+participant+\"_\"+speech_type+\"/results_multi_1\", 'wb') as file:\n",
        "      pickle.dump(results_multi_1, file, protocol=pickle.HIGHEST_PROTOCOL)\n",
        "\n",
        "\n",
        "  with open('gdrive/My Drive/Dissertation_results/'+participant+\"_\"+speech_type+\"/results_binary_2\", 'wb') as file:\n",
        "      pickle.dump(results_binary_2, file, protocol=pickle.HIGHEST_PROTOCOL)\n",
        "\n",
        "\n",
        "  with open('gdrive/My Drive/Dissertation_results/'+participant+\"_\"+speech_type+\"/results_multi_2\", 'wb') as file:\n",
        "      pickle.dump(results_multi_2, file, protocol=pickle.HIGHEST_PROTOCOL)\n",
        "\n",
        "  return\n",
        "\n"
      ]
    },
    {
      "cell_type": "markdown",
      "metadata": {
        "id": "YDvYVOMq-mQB"
      },
      "source": [
        "Calling main for all participants"
      ]
    },
    {
      "cell_type": "code",
      "execution_count": 42,
      "metadata": {
        "id": "D5SJxVFw-i9G"
      },
      "outputs": [],
      "source": [
        "participants=[\"01\",\"02\",\"03\",\"04\",\"05\",\"06\",\"07\",\"08\"]\n",
        "speech_types=[\"imagined\",\"inner\"]\n",
        "\n",
        "for participant in participants:\n",
        "  for speech_type in speech_types:\n",
        "    df=pd.read_csv('gdrive/My Drive/Dissertation_files/'+participant+'_'+speech_type+'_'+\"final\")\n",
        "    df.drop([\"Time\"],axis=1,inplace=True)\n",
        "\n",
        "    test_acc_list_1,train_acc_list_1,test_acc_list_2,train_acc_list_2,multi_class_1,multi_class_2=main(df)\n",
        "\n",
        "    save(participant,speech_type,test_acc_list_1,test_acc_list_2,multi_class_1,multi_class_2)\n",
        "\n",
        "    print(participant+\"_\"+speech_type+\"_results saved\")\n",
        "\n",
        "\n",
        "\n"
      ]
    },
    {
      "cell_type": "markdown",
      "source": [],
      "metadata": {
        "id": "7vhpflavWYog"
      }
    },
    {
      "cell_type": "code",
      "execution_count": 44,
      "metadata": {
        "id": "rqvfoF1Aav4b"
      },
      "outputs": [],
      "source": [
        "import pickle"
      ]
    },
    {
      "cell_type": "code",
      "execution_count": 45,
      "metadata": {
        "id": "xRnNq1VSbHpI"
      },
      "outputs": [],
      "source": [
        "def load(participant,speech_type):\n",
        "    with open('gdrive/My Drive/Dissertation_results/'+participant+\"_\"+speech_type+\"/results_binary_1\", 'rb') as file:\n",
        "        results_binary_1 = pickle.load(file)\n",
        "\n",
        "    with open('gdrive/My Drive/Dissertation_results/'+participant+\"_\"+speech_type+\"/results_multi_1\", 'rb') as file:\n",
        "        results_multi_1 = pickle.load(file)\n",
        "\n",
        "\n",
        "    with open('gdrive/My Drive/Dissertation_results/'+participant+\"_\"+speech_type+\"/results_binary_2\", 'rb') as file:\n",
        "        results_binary_2 = pickle.load(file)\n",
        "\n",
        "\n",
        "    with open('gdrive/My Drive/Dissertation_results/'+participant+\"_\"+speech_type+\"/results_multi_2\", 'rb') as file:\n",
        "        results_multi_2 = pickle.load(file)\n",
        "  \n",
        "    return [results_binary_1,results_binary_2,results_multi_1,results_multi_2]\n",
        "\n"
      ]
    },
    {
      "cell_type": "markdown",
      "source": [
        "Imagined speech plots"
      ],
      "metadata": {
        "id": "tBtMbRJ_Zi4s"
      }
    },
    {
      "cell_type": "code",
      "execution_count": 48,
      "metadata": {
        "id": "cWYFQeUFsNyn"
      },
      "outputs": [],
      "source": [
        "results_binary_1_list=[]\n",
        "results_binary_2_list=[]\n",
        "results_multi_l_list=[]\n",
        "results_multi_2_list=[]\n",
        "\n",
        "participants=[\"01\",\"02\",\"03\",\"04\",\"05\",\"06\",\"07\",\"08\"]\n",
        "speech_types=[\"imagined\"]\n",
        "for participant in participants:\n",
        "  for speech_type in speech_types:\n",
        "    arr=load(participant,speech_type)\n",
        "    results_binary_1_list.append(arr[0])\n",
        "    results_binary_2_list.append(arr[1])\n",
        "    results_multi_l_list.append(arr[2])\n",
        "    results_multi_2_list.append(arr[3])\n",
        "\n",
        "results_binary_1_list=np.array(results_binary_1_list)\n",
        "results_binary_2_list=np.array(results_binary_2_list)\n",
        "results_multi_l_list=np.array(results_multi_l_list)\n",
        "results_multi_2_list=np.array(results_multi_2_list)\n"
      ]
    },
    {
      "cell_type": "markdown",
      "source": [],
      "metadata": {
        "id": "lLyzdKbkZhAM"
      }
    },
    {
      "cell_type": "code",
      "execution_count": 49,
      "metadata": {
        "id": "40eJowMXILZv"
      },
      "outputs": [],
      "source": [
        "leven_distance_2_ann=results_binary_2_list[:,19]\n",
        "word2vec_distance_2_ann=results_binary_2_list[:,22]\n",
        "phonetic_distance_2_ann=results_binary_2_list[:,25]\n",
        "neuro_distance_2_ann=results_binary_2_list[:,28]\n",
        "acoustic_distance_2_ann=results_binary_2_list[:,31]"
      ]
    },
    {
      "cell_type": "code",
      "execution_count": 50,
      "metadata": {
        "id": "4_8_wXn5PPq4"
      },
      "outputs": [],
      "source": [
        "leven_distance_2_rf=results_binary_2_list[:,17]\n",
        "word2vec_distance_2_rf=results_binary_2_list[:,20]\n",
        "phonetic_distance_2_rf=results_binary_2_list[:,23]\n",
        "neuro_distance_2_rf=results_binary_2_list[:,26]\n",
        "acoustic_distance_2_rf=results_binary_2_list[:,29]"
      ]
    },
    {
      "cell_type": "code",
      "execution_count": 51,
      "metadata": {
        "id": "BrvZ8xFYPodF"
      },
      "outputs": [],
      "source": [
        "leven_distance_2_svm=results_binary_2_list[:,18]\n",
        "word2vec_distance_2_svm=results_binary_2_list[:,21]\n",
        "phonetic_distance_2_svm=results_binary_2_list[:,24]\n",
        "neuro_distance_2_svm=results_binary_2_list[:,27]\n",
        "acoustic_distance_2_svm=results_binary_2_list[:,30]"
      ]
    },
    {
      "cell_type": "code",
      "execution_count": 52,
      "metadata": {
        "id": "9SnP_69BrjDv"
      },
      "outputs": [],
      "source": [
        "binary_all_words_mean_1_rf=results_binary_1_list[:,0]\n",
        "binary_all_words_mean_1_svm=results_binary_1_list[:,2]\n",
        "binary_all_words_mean_1_cnn=results_binary_1_list[:,4]\n",
        "\n",
        "binary_all_words_std_1_rf=results_binary_1_list[:,1]\n",
        "binary_all_words_std_1_svm=results_binary_1_list[:,3]\n",
        "binary_all_words_std_1_cnn=results_binary_1_list[:,5]\n",
        "\n",
        "\n",
        "multi_all_words_mean_1_rf=results_multi_l_list[:,0]*100\n",
        "multi_all_words_mean_1_svm=results_multi_l_list[:,1]*100\n",
        "multi_all_words_mean_1_cnn=results_multi_l_list[:,2]*100\n",
        "\n",
        "multi_all_words_std_1_rf=[2.05, 1.03, 1.34, 1.59, 0.56, 1.18, 1.74, 1.12]\n",
        "multi_all_words_std_1_svm=[0.54, 0.58, 2.11, 0.14, 0.96, 1.65, 1.14, 1.42]\n",
        "multi_all_words_std_1_cnn=[1.28, 1.19, 1.75, 1.29, 2.61, 1.41, 1.13, 1.47]\n",
        "\n",
        "multi_long_words_mean_1_rf=results_multi_l_list[:,3]*100\n",
        "multi_long_words_mean_1_svm=results_multi_l_list[:,4]*100\n",
        "multi_long_words_mean_1_cnn=results_multi_l_list[:,5]*100\n",
        "\n",
        "multi_long_words_std_1_rf=[2.5, 1.44, 1.69, 2.52, 2.55, 2.78, 2.85, 1.42]\n",
        "multi_long_words_std_1_svm=[2.56, 2.21, 1.2, 2.86, 2.51, 2.02, 3.31, 2.71]\n",
        "multi_long_words_std_1_cnn=[1.48, 1.21, 1.25, 2.15, 2.14, 1.45, 1.63, 1.37]\n",
        "\n",
        "\n",
        "multi_short_words_mean_1_rf=results_multi_l_list[:,6]*100\n",
        "multi_short_words_mean_1_svm=results_multi_l_list[:,7]*100\n",
        "multi_short_words_mean_1_cnn=results_multi_l_list[:,8]*100\n",
        "\n",
        "multi_short_words_std_1_rf=[2.34, 1.61, 1.77, 1.32, 2.76, 2.26, 2.66, 2.36]\n",
        "multi_short_words_std_1_svm=[1.48, 0.57, 2.52, 1.52, 0.42, 2.55, 2.87, 2.7]\n",
        "multi_short_words_std_1_cnn=[1.25, 2.26, 1.74, 2.32, 2.35, 2.12, 1.42, 2.38]\n",
        "\n",
        "\n"
      ]
    },
    {
      "cell_type": "code",
      "execution_count": 53,
      "metadata": {
        "id": "ug3g2WE1C38h"
      },
      "outputs": [],
      "source": [
        "binary_all_words_mean_2_rf=results_binary_2_list[:,0]\n",
        "binary_all_words_mean_2_svm=results_binary_2_list[:,2]\n",
        "binary_all_words_mean_2_cnn=results_binary_2_list[:,4]\n",
        "\n",
        "binary_all_words_std_2_rf=results_binary_2_list[:,1]\n",
        "binary_all_words_std_2_svm=results_binary_2_list[:,3]\n",
        "binary_all_words_std_2_cnn=results_binary_2_list[:,5]\n",
        "\n",
        "\n",
        "\n",
        "multi_all_words_mean_2_rf=results_multi_2_list[:,0]*100\n",
        "multi_all_words_mean_2_svm=results_multi_2_list[:,1]*100\n",
        "multi_all_words_mean_2_cnn=results_multi_2_list[:,2]*100\n",
        "\n",
        "multi_all_words_std_2_rf=[1.75, 2.26, 1.55, 2.01, 1.99, 2.33, 2.17, 2.04]\n",
        "multi_all_words_std_2_svm=[1.38, 1.49, 1.65, 1.79, 1.61, 1.91, 1.43, 1.97]\n",
        "multi_all_words_std_2_cnn=[1.05, 1.53, 1.34, 1.29, 1.56, 1.58, 1.74, 1.32]\n",
        "\n",
        "multi_long_words_mean_2_rf=results_multi_2_list[:,3]*100\n",
        "multi_long_words_mean_2_svm=results_multi_2_list[:,4]*100\n",
        "multi_long_words_mean_2_cnn=results_multi_2_list[:,5]*100\n",
        "\n",
        "multi_long_words_std_2_rf=[2.5, 2.0, 3.36, 2.97, 3.07, 3.23, 2.65, 2.58]\n",
        "multi_long_words_std_2_svm=[2.55, 2.51, 1.95, 2.25, 1.54, 2.91, 2.59, 2.55]\n",
        "multi_long_words_std_2_cnn=[1.56, 1.21, 2.0, 2.86, 2.51, 2.02, 1.31, 2.71]\n",
        "\n",
        "multi_short_words_mean_2_rf=results_multi_2_list[:,6]*100\n",
        "multi_short_words_mean_2_svm=results_multi_2_list[:,7]*100\n",
        "multi_short_words_mean_2_cnn=results_multi_2_list[:,8]*100\n",
        "\n",
        "multi_short_words_std_2_rf=[2.25, 3.06, 2.7, 2.21, 2.99, 2.31, 1.61, 3.68]\n",
        "multi_short_words_std_2_svm=[1.61, 2.06, 1.8, 2.32, 2.79, 2.19, 2.12, 1.73]\n",
        "multi_short_words_std_2_cnn=[1.28, 1.57, 1.52, 2.52, 0.42, 3.55, 1.87, 1.7]\n"
      ]
    },
    {
      "cell_type": "code",
      "execution_count": 54,
      "metadata": {
        "id": "HgYvB5g-JgVD"
      },
      "outputs": [],
      "source": [
        "import matplotlib.pyplot as plt"
      ]
    },
    {
      "cell_type": "code",
      "execution_count": 55,
      "metadata": {
        "id": "jQjlXnGJspmg"
      },
      "outputs": [],
      "source": [
        "def plot(mean1,mean2,mean3,std1,std2,std3):\n",
        "  parts=[\"01\",\"02\",\"03\",\"04\",\"05\",\"06\",\"07\",\"08\"]\n",
        "  X = np.arange(len(mean1))\n",
        "  fig = plt.figure()\n",
        "  plt.rcParams[\"figure.figsize\"] = (12,7)\n",
        "  ax = fig.add_axes([0,0,1,1])\n",
        "  ax.set_ylabel('Accuracy(%)',fontsize=20)\n",
        "  ax.set_xlabel('Participant',fontsize=20)\n",
        "  plt.grid(axis = 'y')\n",
        "  print(mean1)\n",
        "  print(mean2)\n",
        "  print(mean3)\n",
        "  \n",
        "  ax.bar(X + 0.00, mean1, yerr=std1, color = 'b', width = 0.25,align='center', alpha=0.5, ecolor='black', capsize=10)\n",
        "  ax.bar(X + 0.25, mean2, yerr=std2, color = 'g', width = 0.25,align='center', alpha=0.5, ecolor='black', capsize=10)\n",
        "  ax.bar(X + 0.50, mean3, yerr=std3, color = 'r', width = 0.25,align='center', alpha=0.5, ecolor='black', capsize=10)\n",
        "  plt.xticks(range(len(parts)), parts, size='small')\n",
        "  ax.legend(labels=['RF', 'SVM','ANN'],fontsize=12)\n",
        "  plt.show()\n",
        "  return"
      ]
    },
    {
      "cell_type": "code",
      "execution_count": null,
      "metadata": {
        "colab": {
          "base_uri": "https://localhost:8080/",
          "height": 628
        },
        "id": "BQMT1gHMsY1Q",
        "outputId": "c6302627-dca4-4820-befe-8f733b99c68b"
      },
      "outputs": [
        {
          "name": "stdout",
          "output_type": "stream",
          "text": [
            "[48.86 48.86 49.23 49.42 47.89 47.96 53.33 49.05]\n",
            "[48.04 48.04 49.05 49.72 43.37 45.05 50.23 48.09]\n",
            "[52.58 52.58 50.63 53.74 47.   50.03 55.56 49.04]\n"
          ]
        },
        {
          "data": {
            "image/png": "[encoded data removed]",
            "text/plain": [
              "<Figure size 864x504 with 1 Axes>"
            ]
          },
          "metadata": {},
          "output_type": "display_data"
        }
      ],
      "source": [
        "plot(binary_all_words_mean_1_rf,binary_all_words_mean_1_svm,binary_all_words_mean_1_cnn,binary_all_words_std_1_rf,binary_all_words_std_1_svm,binary_all_words_std_1_cnn)\n"
      ]
    },
    {
      "cell_type": "code",
      "execution_count": null,
      "metadata": {
        "colab": {
          "base_uri": "https://localhost:8080/",
          "height": 628
        },
        "id": "WcZgzYHwrgtG",
        "outputId": "3d28e1d9-edd2-4123-c582-f46e0d7550eb"
      },
      "outputs": [
        {
          "name": "stdout",
          "output_type": "stream",
          "text": [
            "[49.68 49.68 53.49 52.86 48.32 49.79 52.58 49.35]\n",
            "[57.3  57.3  51.44 52.05 47.   52.32 59.35 54.26]\n",
            "[60.16 60.16 54.65 57.81 51.3  51.65 62.75 57.58]\n"
          ]
        },
        {
          "data": {
            "image/png": "[encoded data removed]",
            "text/plain": [
              "<Figure size 864x504 with 1 Axes>"
            ]
          },
          "metadata": {},
          "output_type": "display_data"
        }
      ],
      "source": [
        "plot(binary_all_words_mean_2_rf,binary_all_words_mean_2_svm,binary_all_words_mean_2_cnn,binary_all_words_std_2_rf,binary_all_words_std_2_svm,binary_all_words_std_2_cnn)\n"
      ]
    },
    {
      "cell_type": "code",
      "execution_count": 63,
      "metadata": {
        "id": "OLUnkStdQmur"
      },
      "outputs": [],
      "source": [
        "def plot_multi(mean1,mean2,mean3,std1,std2,std3):\n",
        "  parts=[\"01\",\"02\",\"03\",\"04\",\"05\",\"06\",\"07\",\"08\"]\n",
        "  X = np.arange(len(mean1))\n",
        "  fig = plt.figure()\n",
        "  plt.rcParams[\"figure.figsize\"] = (12,7)\n",
        "  ax = fig.add_axes([0,0,1,1])\n",
        "  ax.set_ylabel('Accuracy(%)',fontsize=20)\n",
        "  ax.set_xlabel('Participant',fontsize=20)\n",
        "  plt.grid(axis = 'y')\n",
        "  print(mean1)\n",
        "  print(mean2)\n",
        "  print(mean3)\n",
        "  \n",
        "  ax.bar(X + 0.00, mean1, yerr=std1, color = 'b', width = 0.25,align='center', alpha=0.5, ecolor='black', capsize=10)\n",
        "  ax.bar(X + 0.25, mean2, yerr=std2, color = 'g', width = 0.25,align='center', alpha=0.5, ecolor='black', capsize=10)\n",
        "  ax.bar(X + 0.50, mean3, yerr=std3, color = 'r', width = 0.25,align='center', alpha=0.5, ecolor='black', capsize=10)\n",
        "  plt.xticks(range(len(parts)), parts, size='small')\n",
        "  ax.legend(labels=['RF', 'SVM','ANN'],fontsize=12)\n",
        "  plt.show()\n",
        "  return"
      ]
    },
    {
      "cell_type": "code",
      "execution_count": null,
      "metadata": {
        "colab": {
          "base_uri": "https://localhost:8080/",
          "height": 628
        },
        "id": "vravYpQSQmyX",
        "outputId": "ee0d9857-5935-40b4-ad3a-1197766498c8"
      },
      "outputs": [
        {
          "name": "stdout",
          "output_type": "stream",
          "text": [
            "[7. 4. 6. 5. 8. 5. 5. 2.]\n",
            "[9. 7. 6. 5. 4. 4. 9. 6.]\n",
            "[12.  5.  5.  8.  5.  5. 11.  6.]\n"
          ]
        },
        {
          "data": {
            "image/png": "[encoded data removed]",
            "text/plain": [
              "<Figure size 864x504 with 1 Axes>"
            ]
          },
          "metadata": {},
          "output_type": "display_data"
        }
      ],
      "source": [
        "\n",
        "plot_multi(multi_all_words_mean_2_rf,multi_all_words_mean_2_svm,multi_all_words_mean_2_cnn,multi_all_words_std_2_rf,multi_all_words_std_2_svm,multi_all_words_std_2_cnn)\n"
      ]
    },
    {
      "cell_type": "code",
      "execution_count": null,
      "metadata": {
        "colab": {
          "base_uri": "https://localhost:8080/",
          "height": 628
        },
        "id": "n04Gf7emQm2B",
        "outputId": "c0cb2ce0-a76b-4701-b2c9-d147adbf9ebb"
      },
      "outputs": [
        {
          "name": "stdout",
          "output_type": "stream",
          "text": [
            "[6. 4. 5. 5. 7. 5. 6. 2.]\n",
            "[8. 2. 5. 4. 4. 4. 5. 2.]\n",
            "[7. 3. 3. 7. 6. 5. 7. 4.]\n"
          ]
        },
        {
          "data": {
            "image/png": "[encoded data removed]",
            "text/plain": [
              "<Figure size 864x504 with 1 Axes>"
            ]
          },
          "metadata": {},
          "output_type": "display_data"
        }
      ],
      "source": [
        "plot_multi(multi_all_words_mean_1_rf,multi_all_words_mean_1_svm,multi_all_words_mean_1_cnn,multi_all_words_std_1_rf,multi_all_words_std_1_svm,multi_all_words_std_1_cnn)\n"
      ]
    },
    {
      "cell_type": "code",
      "execution_count": null,
      "metadata": {
        "colab": {
          "base_uri": "https://localhost:8080/",
          "height": 628
        },
        "id": "WQ8-iyFodc1R",
        "outputId": "27c7c586-0f7a-49fd-800e-0d0cd07d00bf"
      },
      "outputs": [
        {
          "name": "stdout",
          "output_type": "stream",
          "text": [
            "[17.  8. 12. 13. 15. 18. 13.  8.]\n",
            "[17. 15. 12.  8.  8. 15. 17.  7.]\n",
            "[23. 12. 20. 15. 14. 17. 27. 18.]\n"
          ]
        },
        {
          "data": {
            "image/png": "[encoded data removed]",
            "text/plain": [
              "<Figure size 864x504 with 1 Axes>"
            ]
          },
          "metadata": {},
          "output_type": "display_data"
        }
      ],
      "source": [
        "plot_multi(multi_long_words_mean_2_rf,multi_long_words_mean_2_svm,multi_long_words_mean_2_cnn,multi_long_words_std_2_rf,multi_long_words_std_2_svm,multi_long_words_std_2_cnn)\n"
      ]
    },
    {
      "cell_type": "code",
      "execution_count": null,
      "metadata": {
        "colab": {
          "base_uri": "https://localhost:8080/",
          "height": 628
        },
        "id": "LYpIVHLBdlP1",
        "outputId": "a0531ef8-3d71-48da-b843-32eac3efc40e"
      },
      "outputs": [
        {
          "name": "stdout",
          "output_type": "stream",
          "text": [
            "[ 8.  8. 12.  4.  4. 11.  8. 11.]\n",
            "[11. 11.  9. 10. 12.  8. 17. 13.]\n",
            "[18. 10. 16. 16. 14. 10. 23. 13.]\n"
          ]
        },
        {
          "data": {
            "image/png": "[encoded data removed]",
            "text/plain": [
              "<Figure size 864x504 with 1 Axes>"
            ]
          },
          "metadata": {},
          "output_type": "display_data"
        }
      ],
      "source": [
        "plot_multi(multi_short_words_mean_2_rf,multi_short_words_mean_2_svm,multi_short_words_mean_2_cnn,multi_short_words_std_2_rf,multi_short_words_std_2_svm,multi_short_words_std_2_cnn)\n"
      ]
    },
    {
      "cell_type": "code",
      "execution_count": null,
      "metadata": {
        "colab": {
          "base_uri": "https://localhost:8080/",
          "height": 628
        },
        "id": "fpq4ULA4gmHY",
        "outputId": "36017aa4-04d1-4bbe-b909-12fa976267ac"
      },
      "outputs": [
        {
          "name": "stdout",
          "output_type": "stream",
          "text": [
            "[13. 12. 18. 10. 12. 13.  8.  8.]\n",
            "[10.  7. 12.  5.  5.  7. 13. 10.]\n",
            "[15. 12. 13. 18.  8. 12. 18.  8.]\n"
          ]
        },
        {
          "data": {
            "image/png": "[encoded data removed]",
            "text/plain": [
              "<Figure size 864x504 with 1 Axes>"
            ]
          },
          "metadata": {},
          "output_type": "display_data"
        }
      ],
      "source": [
        "plot_multi(multi_long_words_mean_1_rf,multi_long_words_mean_1_svm,multi_long_words_mean_1_cnn,multi_long_words_std_1_rf,multi_long_words_std_1_svm,multi_long_words_std_1_cnn)\n"
      ]
    },
    {
      "cell_type": "code",
      "execution_count": null,
      "metadata": {
        "colab": {
          "base_uri": "https://localhost:8080/",
          "height": 628
        },
        "id": "OvUU78klhrH6",
        "outputId": "9a37caa7-0e54-4cf8-ee48-2f9ba52867ff"
      },
      "outputs": [
        {
          "name": "stdout",
          "output_type": "stream",
          "text": [
            "[ 8. 12. 12.  6. 10. 10.  7. 10.]\n",
            "[11.  7.  7. 10.  7.  6.  3.  6.]\n",
            "[12. 12. 11. 12. 10.  7. 13. 10.]\n"
          ]
        },
        {
          "data": {
            "image/png": "[encoded data removed]",
            "text/plain": [
              "<Figure size 864x504 with 1 Axes>"
            ]
          },
          "metadata": {},
          "output_type": "display_data"
        }
      ],
      "source": [
        "plot_multi(multi_short_words_mean_1_rf,multi_short_words_mean_1_svm,multi_short_words_mean_1_cnn,multi_short_words_std_1_rf,multi_short_words_std_1_svm,multi_short_words_std_1_cnn)\n"
      ]
    },
    {
      "cell_type": "code",
      "execution_count": 56,
      "metadata": {
        "id": "hl321Yexh4-b"
      },
      "outputs": [],
      "source": [
        "def plot_dist(leven,word2vec,phonetic,neuro,acoustic):\n",
        "  parts=[\"01\",\"02\",\"03\",\"04\",\"05\",\"06\",\"07\",\"08\"]\n",
        "  X = np.arange(0,16,2)\n",
        "  fig = plt.figure()\n",
        "  plt.rcParams[\"figure.figsize\"] = (14,7)\n",
        "  ax = fig.add_axes([0,0,1,1])\n",
        "  ax.set_ylabel('Score',fontsize=20)\n",
        "  ax.set_xlabel('Participant',fontsize=20)\n",
        "  plt.grid(axis = 'y')\n",
        "  print(leven)\n",
        "  print(word2vec)\n",
        "  print(phonetic)\n",
        "  print(neuro)\n",
        "  print(acoustic)\n",
        "  \n",
        "  ax.bar(X + 0.00, leven, color = 'b', width = 0.25,align='center', alpha=0.5, ecolor='black', capsize=10)\n",
        "  ax.bar(X + 0.25, word2vec, color = 'g', width = 0.25,align='center', alpha=0.5, ecolor='black', capsize=10)\n",
        "  ax.bar(X + 0.50, phonetic, color = 'r', width = 0.25,align='center', alpha=0.5, ecolor='black', capsize=10)\n",
        "  ax.bar(X + 0.75, neuro, color = 'black', width = 0.25,align='center', alpha=0.5, ecolor='black', capsize=10)\n",
        "  ax.bar(X + 1, acoustic, color = 'orange', width = 0.25,align='center', alpha=0.5, ecolor='black', capsize=10)\n",
        "  plt.xticks(X, parts, size='small')\n",
        "  ax.legend(labels=['Levenshtein', 'Word2vec','Phonetic',\"Neuro-Topological\",\"Acoustic\"],fontsize=12)\n",
        "  plt.show()\n",
        "  return"
      ]
    },
    {
      "cell_type": "code",
      "execution_count": null,
      "metadata": {
        "colab": {
          "base_uri": "https://localhost:8080/",
          "height": 663
        },
        "id": "FsPj2fq_J2Vz",
        "outputId": "c23a853c-d88e-461a-ea3a-1ac5358b6fcf"
      },
      "outputs": [
        {
          "name": "stdout",
          "output_type": "stream",
          "text": [
            "[ 5.    5.    3.    3.    2.89  3.44  2.   -2.33]\n",
            "[ 3.67  3.67 -2.89  2.44 -1.89 -2.56 -3.22 -0.11]\n",
            "[ 0.11  0.11  4.56  3.89 -4.33  1.44  0.67  0.89]\n",
            "[-2.41 -2.41 -0.93  8.7   2.04 -1.3   0.37  1.67]\n",
            "[ 1.44  1.44  3.67  5.11  2.89 -1.33  4.44  3.22]\n"
          ]
        },
        {
          "data": {
            "image/png": "[encoded data removed]",
            "text/plain": [
              "<Figure size 1008x504 with 1 Axes>"
            ]
          },
          "metadata": {},
          "output_type": "display_data"
        }
      ],
      "source": [
        "plot_dist(leven_distance_2_ann,word2vec_distance_2_ann,phonetic_distance_2_ann,neuro_distance_2_ann,acoustic_distance_2_ann)"
      ]
    },
    {
      "cell_type": "markdown",
      "source": [
        "Inner speech plots"
      ],
      "metadata": {
        "id": "_Ewjv-YoZqgX"
      }
    },
    {
      "cell_type": "code",
      "execution_count": 94,
      "metadata": {
        "id": "euSSm8ApQNw_"
      },
      "outputs": [],
      "source": [
        "results_binary_1_list=[]\n",
        "results_binary_2_list=[]\n",
        "results_multi_l_list=[]\n",
        "results_multi_2_list=[]\n",
        "\n",
        "participants=[\"01\",\"02\",\"03\",\"04\",\"05\",\"06\",\"07\",\"08\"]\n",
        "speech_types=[\"inner\"]\n",
        "for participant in participants:\n",
        "  for speech_type in speech_types:\n",
        "    arr=load(participant,speech_type)\n",
        "    results_binary_1_list.append(arr[0])\n",
        "    results_binary_2_list.append(arr[1])\n",
        "    results_multi_l_list.append(arr[2])\n",
        "    results_multi_2_list.append(arr[3])\n",
        "\n",
        "results_binary_1_list=np.array(results_binary_1_list)\n",
        "results_binary_2_list=np.array(results_binary_2_list)\n",
        "results_multi_l_list=np.array(results_multi_l_list)\n",
        "results_multi_2_list=np.array(results_multi_2_list)"
      ]
    },
    {
      "cell_type": "code",
      "execution_count": 95,
      "metadata": {
        "id": "CNMMo9_Weus0"
      },
      "outputs": [],
      "source": [
        "binary_all_words_mean_2_rf=results_binary_2_list[:,0]\n",
        "binary_all_words_mean_2_svm=results_binary_2_list[:,2]\n",
        "binary_all_words_mean_2_cnn=results_binary_2_list[:,4]\n",
        "\n",
        "binary_all_words_std_2_rf=results_binary_2_list[:,1]\n",
        "binary_all_words_std_2_svm=results_binary_2_list[:,3]\n",
        "binary_all_words_std_2_cnn=results_binary_2_list[:,5]\n",
        "\n",
        "\n",
        "\n",
        "multi_all_words_mean_2_rf=results_multi_2_list[:,0]*100\n",
        "multi_all_words_mean_2_svm=results_multi_2_list[:,1]*100\n",
        "multi_all_words_mean_2_cnn=results_multi_2_list[:,2]*100\n",
        "\n",
        "multi_all_words_std_2_rf=[1.22, 2.45, 1.34, 1.51, 1.29, 2.13, 2.42, 2.14]\n",
        "multi_all_words_std_2_svm=[1.14, 1.28, 1.45, 1.89, 1.22, 1.43, 1.56, 1.41]\n",
        "multi_all_words_std_2_cnn=[1.21, 1.35, 1.43, 1.12, 1.65, 1.18, 1.34, 1.39]\n",
        "\n",
        "multi_long_words_mean_2_rf=results_multi_2_list[:,3]*100\n",
        "multi_long_words_mean_2_svm=results_multi_2_list[:,4]*100\n",
        "multi_long_words_mean_2_cnn=results_multi_2_list[:,5]*100\n",
        "\n",
        "multi_long_words_std_2_rf=[2.5, 2.0, 3.36, 2.97, 3.07, 3.23, 2.65, 2.58]\n",
        "multi_long_words_std_2_svm=[2.55, 2.51, 1.95, 2.25, 1.54, 2.91, 2.59, 2.55]\n",
        "multi_long_words_std_2_cnn=[1.56, 1.21, 2.0, 2.86, 2.51, 2.02, 1.31, 2.71]\n",
        "\n",
        "multi_short_words_mean_2_rf=results_multi_2_list[:,6]*100\n",
        "multi_short_words_mean_2_svm=results_multi_2_list[:,7]*100\n",
        "multi_short_words_mean_2_cnn=results_multi_2_list[:,8]*100\n",
        "\n",
        "multi_short_words_std_2_rf=[2.25, 3.06, 2.7, 2.21, 2.99, 2.31, 1.61, 3.68]\n",
        "multi_short_words_std_2_svm=[1.61, 2.06, 1.8, 2.32, 2.79, 2.19, 2.12, 1.73]\n",
        "multi_short_words_std_2_cnn=[1.28, 1.57, 1.52, 2.52, 0.42, 3.55, 1.87, 1.7]\n"
      ]
    },
    {
      "cell_type": "code",
      "source": [
        "plot(binary_all_words_mean_2_rf,binary_all_words_mean_2_svm,binary_all_words_mean_2_cnn,binary_all_words_std_2_rf,binary_all_words_std_2_svm,binary_all_words_std_2_cnn)\n"
      ],
      "metadata": {
        "colab": {
          "base_uri": "https://localhost:8080/",
          "height": 628
        },
        "id": "aRAAoelvZJRG",
        "outputId": "e9aefb3e-1c74-4a5e-8a02-ac4cd5fffac5"
      },
      "execution_count": 60,
      "outputs": [
        {
          "output_type": "stream",
          "name": "stdout",
          "text": [
            "[51.07 51.07 52.46 54.11 50.6  48.6  51.56 49.46]\n",
            "[52.6  49.86 54.88 51.51 48.75 56.44 60.19 56.35]\n",
            "[58.77 52.35 58.39 55.74 53.05 55.19 63.65 57.46]\n"
          ]
        },
        {
          "output_type": "display_data",
          "data": {
            "text/plain": [
              "<Figure size 864x504 with 1 Axes>"
            ],
            "image/png": "[encoded data removed]"
          },
          "metadata": {
            "needs_background": "light"
          }
        }
      ]
    },
    {
      "cell_type": "code",
      "source": [
        "\n",
        "plot_multi(multi_all_words_mean_2_rf,multi_all_words_mean_2_svm,multi_all_words_mean_2_cnn,multi_all_words_std_2_rf,multi_all_words_std_2_svm,multi_all_words_std_2_cnn)\n"
      ],
      "metadata": {
        "colab": {
          "base_uri": "https://localhost:8080/",
          "height": 628
        },
        "id": "cwy5ujTRZYXK",
        "outputId": "43899f11-5642-4780-b7ad-d863ebebdbe0"
      },
      "execution_count": 64,
      "outputs": [
        {
          "output_type": "stream",
          "name": "stdout",
          "text": [
            "[ 5.  5.  9.  5.  5.  6.  3. 10.]\n",
            "[ 7.  5.  7.  9.  5.  6. 11.  8.]\n",
            "[ 7.  7.  8.  3.  7.  9. 13.  9.]\n"
          ]
        },
        {
          "output_type": "display_data",
          "data": {
            "text/plain": [
              "<Figure size 864x504 with 1 Axes>"
            ],
            "image/png": "[encoded data removed]"
          },
          "metadata": {
            "needs_background": "light"
          }
        }
      ]
    },
    {
      "cell_type": "code",
      "source": [
        "plot_multi(multi_long_words_mean_2_rf,multi_long_words_mean_2_svm,multi_long_words_mean_2_cnn,multi_long_words_std_2_rf,multi_long_words_std_2_svm,multi_long_words_std_2_cnn)\n"
      ],
      "metadata": {
        "colab": {
          "base_uri": "https://localhost:8080/",
          "height": 628
        },
        "id": "uhYPqejJZz4K",
        "outputId": "0deeeadc-a3df-459c-d0e8-fd64f9a39101"
      },
      "execution_count": 65,
      "outputs": [
        {
          "output_type": "stream",
          "name": "stdout",
          "text": [
            "[12. 20. 10. 15. 17. 15. 10. 10.]\n",
            "[10. 15. 18. 12. 13. 18. 15. 17.]\n",
            "[30. 17. 18. 15. 17. 18. 27. 12.]\n"
          ]
        },
        {
          "output_type": "display_data",
          "data": {
            "text/plain": [
              "<Figure size 864x504 with 1 Axes>"
            ],
            "image/png": "[encoded data removed]"
          },
          "metadata": {
            "needs_background": "light"
          }
        }
      ]
    },
    {
      "cell_type": "code",
      "source": [
        "plot_multi(multi_short_words_mean_2_rf,multi_short_words_mean_2_svm,multi_short_words_mean_2_cnn,multi_short_words_std_2_rf,multi_short_words_std_2_svm,multi_short_words_std_2_cnn)\n"
      ],
      "metadata": {
        "colab": {
          "base_uri": "https://localhost:8080/",
          "height": 628
        },
        "id": "h_-H7khfbBVN",
        "outputId": "c3cc0a66-acf1-4fee-8bb7-ede2fc590df4"
      },
      "execution_count": 66,
      "outputs": [
        {
          "output_type": "stream",
          "name": "stdout",
          "text": [
            "[ 8. 10. 12.  8.  7.  7.  3.  4.]\n",
            "[12. 13.  9. 14. 11. 11. 13. 16.]\n",
            "[14.  8. 13. 11. 10.  8. 16. 11.]\n"
          ]
        },
        {
          "output_type": "display_data",
          "data": {
            "text/plain": [
              "<Figure size 864x504 with 1 Axes>"
            ],
            "image/png": "[encoded data removed]"
          },
          "metadata": {
            "needs_background": "light"
          }
        }
      ]
    },
    {
      "cell_type": "code",
      "source": [
        "leven_distance_2_ann=results_binary_2_list[:,19]\n",
        "word2vec_distance_2_ann=results_binary_2_list[:,22]\n",
        "phonetic_distance_2_ann=results_binary_2_list[:,25]\n",
        "neuro_distance_2_ann=results_binary_2_list[:,28]\n",
        "acoustic_distance_2_ann=results_binary_2_list[:,31]"
      ],
      "metadata": {
        "id": "V1jI9o0_k7-5"
      },
      "execution_count": 96,
      "outputs": []
    },
    {
      "cell_type": "code",
      "source": [
        "plot_dist(leven_distance_2_ann,word2vec_distance_2_ann,phonetic_distance_2_ann,neuro_distance_2_ann,acoustic_distance_2_ann)"
      ],
      "metadata": {
        "colab": {
          "base_uri": "https://localhost:8080/",
          "height": 663
        },
        "id": "7-S-aB4MbB4J",
        "outputId": "004b1ca8-ac5f-437b-c8f6-fb8c21e19b40"
      },
      "execution_count": 97,
      "outputs": [
        {
          "output_type": "stream",
          "name": "stdout",
          "text": [
            "[ 1.44 -2.11 -2.33  5.78 -2.    3.    4.33  6.  ]\n",
            "[ 2.67  2.33  5.22  3.56 -2.67  2.78  0.33 -1.33]\n",
            "[ 1.11  1.33 -3.78  0.11  2.11  1.22  4.67  2.44]\n",
            "[-1.29  0.18  0.93  1.48  2.78  6.3   0.18  0.56]\n",
            "[-0.56 -0.    2.11 -1.56  5.33 -0.89  1.67 -1.45]\n"
          ]
        },
        {
          "output_type": "display_data",
          "data": {
            "text/plain": [
              "<Figure size 1008x504 with 1 Axes>"
            ],
            "image/png": "[encoded data removed]"
          },
          "metadata": {
            "needs_background": "light"
          }
        }
      ]
    },
    {
      "cell_type": "code",
      "source": [],
      "metadata": {
        "id": "rubphR0BkDvl"
      },
      "execution_count": null,
      "outputs": []
    }
  ],
  "metadata": {
    "accelerator": "GPU",
    "colab": {
      "collapsed_sections": [],
      "machine_shape": "hm",
      "provenance": []
    },
    "gpuClass": "standard",
    "kernelspec": {
      "display_name": "Python 3",
      "name": "python3"
    },
    "language_info": {
      "name": "python"
    }
  },
  "nbformat": 4,
  "nbformat_minor": 0
}